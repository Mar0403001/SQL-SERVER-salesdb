{
    "metadata": {
        "kernelspec": {
            "name": "SQL",
            "display_name": "SQL",
            "language": "sql"
        },
        "language_info": {
            "name": "sql",
            "version": ""
        }
    },
    "nbformat_minor": 2,
    "nbformat": 4,
    "cells": [
        {
            "cell_type": "code",
            "source": [
                "/* Crea una tabla llamada Shippers con los siguientes campos:\r\n",
                "ShipperID (int, identity, primary key)\r\n",
                "ShipperName (varchar(20), not null)\r\n",
                "Shipping_Cost_Percent (float, not null)\r\n",
                "Inserta los los nombres de las compañias de envio y el porcentaje de costo de envio con valores al azar generados pro chatgpt.\r\n",
                "*/\r\n",
                "CREATE TABLE Shippers (\r\n",
                "\tShipperID INT identity(1,1) PRIMARY KEY,\r\n",
                "\tShipperName VARCHAR(20) NOT NULL,\r\n",
                "\tShipping_Cost_Percent FLOAT NOT NULL\r\n",
                ")\r\n",
                "INSERT INTO Shippers (ShipperName, Shipping_Cost_Percent)\r\n",
                "VALUES\r\n",
                "    ('SwiftCargo', 0.1050),\r\n",
                "    ('StarShip Express', 0.1575),\r\n",
                "    ('JetStream Logistics', 0.1225),\r\n",
                "    ('ThunderTrans', 0.0890),\r\n",
                "    ('CosmoMovers', 0.1160),\r\n",
                "    ('AeroSwift Shipping', 0.1420),\r\n",
                "    ('ZephyrFreight', 0.0980),\r\n",
                "    ('MagmaTrans', 0.1345),\r\n",
                "    ('Eclipse Logistics', 0.1075),\r\n",
                "    ('GalaxyHaulers', 0.1630);"
            ],
            "metadata": {
                "azdata_cell_guid": "e1268475-252b-4d51-8a82-831ae687d8e9",
                "language": "sql"
            },
            "outputs": [
                {
                    "output_type": "display_data",
                    "data": {
                        "text/html": "(10 rows affected)"
                    },
                    "metadata": {}
                },
                {
                    "output_type": "display_data",
                    "data": {
                        "text/html": "Total execution time: 00:00:00.086"
                    },
                    "metadata": {}
                }
            ],
            "execution_count": 1
        },
        {
            "cell_type": "code",
            "source": [
                "/* Crear una tabla llamada Cities con los siguientes campos:\r\n",
                "CityID (int, autoincremental, primary key)\r\n",
                "CityName (varchar(50), not null)\r\n",
                "Country (varchar(50), not null)\r\n",
                "Insertar 27 ciudades en la tabla, con sus respectivos países, proporcionados por chatgpt.\r\n",
                "*/\r\n",
                "CREATE TABLE Cities (\r\n",
                "\tCityID INT IDENTITY(1,1) PRIMARY KEY,\r\n",
                "\tCityName VARCHAR(50) NOT NULL,\r\n",
                "\tCountry VARCHAR(50) NOT NULL\r\n",
                ")\r\n",
                "\r\n",
                "INSERT INTO Cities (CityName, Country)\r\n",
                "VALUES\r\n",
                "    ('New York', 'United States'),\r\n",
                "    ('London', 'United Kingdom'),\r\n",
                "    ('Tokyo', 'Japan'),\r\n",
                "    ('Paris', 'France'),\r\n",
                "    ('Sydney', 'Australia'),\r\n",
                "    ('Rome', 'Italy'),\r\n",
                "    ('Beijing', 'China'),\r\n",
                "    ('Cairo', 'Egypt'),\r\n",
                "    ('Moscow', 'Russia'),\r\n",
                "    ('Toronto', 'Canada'),\r\n",
                "    ('Buenos Aires', 'Argentina'),\r\n",
                "    ('Amsterdam', 'Netherlands'),\r\n",
                "    ('Dubai', 'United Arab Emirates'),\r\n",
                "    ('Istanbul', 'Turkey'),\r\n",
                "    ('Rio de Janeiro', 'Brazil'),\r\n",
                "    ('Mumbai', 'India'),\r\n",
                "    ('Barcelona', 'Spain'),\r\n",
                "    ('Berlin', 'Germany'),\r\n",
                "    ('Bangkok', 'Thailand'),\r\n",
                "    ('Cape Town', 'South Africa'),\r\n",
                "    ('Seoul', 'South Korea'),\r\n",
                "    ('Vienna', 'Austria'),\r\n",
                "    ('San Francisco', 'United States'),\r\n",
                "    ('Singapore', 'Singapore'),\r\n",
                "    ('Prague', 'Czech Republic'),\r\n",
                "    ('Athens', 'Greece'),\r\n",
                "    ('Auckland', 'New Zealand')"
            ],
            "metadata": {
                "azdata_cell_guid": "3af3c46c-6e6b-4136-aded-83e26542b8dc",
                "language": "sql",
                "tags": []
            },
            "outputs": [
                {
                    "output_type": "display_data",
                    "data": {
                        "text/html": "(27 rows affected)"
                    },
                    "metadata": {}
                },
                {
                    "output_type": "display_data",
                    "data": {
                        "text/html": "Total execution time: 00:00:00.094"
                    },
                    "metadata": {}
                }
            ],
            "execution_count": 2
        },
        {
            "cell_type": "code",
            "source": [
                "/* Crear Nuevos Campos */\r\n",
                "-- add age to employees\r\n",
                "ALTER TABLE Employees\r\n",
                "ADD Age INT;\r\n",
                "\r\n",
                "-- add age, cityid to customers\r\n",
                "ALTER TABLE Customers\r\n",
                "ADD Age INT;\r\n",
                "ALTER TABLE Customers\r\n",
                "ADD CityID INT;\r\n",
                "\r\n",
                "-- cityid must be a foreign key to cities\r\n",
                "ALTER TABLE Customers \r\n",
                "ADD CONSTRAINT FK_Customers_Cities\r\n",
                "FOREIGN KEY (CityID) REFERENCES Cities(CityID);\r\n",
                "\r\n",
                "-- add city of products\r\n",
                "ALTER TABLE Products\r\n",
                "ADD CityID INT;\r\n",
                "\r\n",
                "-- cityid must be a foreign key to cities\r\n",
                "ALTER TABLE Products \r\n",
                "ADD CONSTRAINT FK_Products_Cities\r\n",
                "FOREIGN KEY (CityID) REFERENCES Cities(CityID);\r\n",
                "\r\n",
                "-- add shippers to each sale\r\n",
                "ALTER TABLE Sales\r\n",
                "ADD ShipperID INT;\r\n",
                "-- shipperid must be a foreign key to shippers\r\n",
                "ALTER TABLE Sales\r\n",
                "ADD CONSTRAINT FK_Sales_Shippers\r\n",
                "FOREIGN KEY (ShipperID) REFERENCES Shippers(ShipperID);"
            ],
            "metadata": {
                "azdata_cell_guid": "b619046e-69e6-4d0b-8fca-b0cae2be47ba",
                "language": "sql"
            },
            "outputs": [
                {
                    "output_type": "display_data",
                    "data": {
                        "text/html": "Commands completed successfully."
                    },
                    "metadata": {}
                },
                {
                    "output_type": "display_data",
                    "data": {
                        "text/html": "Total execution time: 00:00:00.736"
                    },
                    "metadata": {}
                }
            ],
            "execution_count": 3
        },
        {
            "cell_type": "code",
            "source": [
                "/* Llenar nuevos campos con datos aleatorios */\r\n",
                "UPDATE Sales SET ShipperID = FLOOR(RAND(CHECKSUM(NEWID()))* (10) +1 ); \r\n",
                "\r\n",
                "UPDATE Customers SET CityID = FLOOR(RAND(CHECKSUM(NEWID())) * (27) + 1 );\r\n",
                "UPDATE Products SET CityID = FLOOR(RAND(CHECKSUM(NEWID())) * (27) + 1 );\r\n",
                "\r\n",
                "UPDATE Customers SET Age = FLOOR(RAND(CHECKSUM(NEWID())) * (70 - 18 + 1) + 18);\r\n",
                "UPDATE Employees SET Age = FLOOR(RAND(CHECKSUM(NEWID())) * (40 - 22 ) + 22);"
            ],
            "metadata": {
                "azdata_cell_guid": "232c2368-5c45-4090-ad3b-c57fa13f1d7a",
                "language": "sql"
            },
            "outputs": [
                {
                    "output_type": "display_data",
                    "data": {
                        "text/html": "(6715221 rows affected)"
                    },
                    "metadata": {}
                },
                {
                    "output_type": "display_data",
                    "data": {
                        "text/html": "(19759 rows affected)"
                    },
                    "metadata": {}
                },
                {
                    "output_type": "display_data",
                    "data": {
                        "text/html": "(504 rows affected)"
                    },
                    "metadata": {}
                },
                {
                    "output_type": "display_data",
                    "data": {
                        "text/html": "(19759 rows affected)"
                    },
                    "metadata": {}
                },
                {
                    "output_type": "display_data",
                    "data": {
                        "text/html": "(23 rows affected)"
                    },
                    "metadata": {}
                },
                {
                    "output_type": "display_data",
                    "data": {
                        "text/html": "Total execution time: 00:01:23.027"
                    },
                    "metadata": {}
                }
            ],
            "execution_count": 4
        },
        {
            "cell_type": "markdown",
            "source": [
                "\\# algunas consultas simples"
            ],
            "metadata": {
                "language": "sql",
                "azdata_cell_guid": "0bc101bc-a6a1-4754-8906-e82a49b5a725"
            },
            "attachments": {}
        },
        {
            "cell_type": "code",
            "source": [
                "/* Top 50 de Customers: Customers más plata han Gastan */\r\n",
                "SELECT Top(50) \r\n",
                "    CONCAT (Customers.FirstName, ' ', Customers.LastName) as client,\r\n",
                "    SUM(Products.Price*sales.Quantity) AS venta\r\n",
                "FROM Customers \r\n",
                "    JOIN sales on Customers.CustomerID = Sales.CustomerID \r\n",
                "    JOIN Products on Products.ProductID = Sales.ProductID\r\n",
                "Group BY CONCAT (Customers.FirstName, ' ', Customers.LastName)\r\n",
                "Order BY venta DESC"
            ],
            "metadata": {
                "language": "sql",
                "azdata_cell_guid": "4d85ad08-89d2-4bfe-8678-f53099316d7d"
            },
            "outputs": [
                {
                    "output_type": "display_data",
                    "data": {
                        "text/html": "(50 rows affected)"
                    },
                    "metadata": {}
                },
                {
                    "output_type": "display_data",
                    "data": {
                        "text/html": "Total execution time: 00:00:02.643"
                    },
                    "metadata": {}
                },
                {
                    "output_type": "execute_result",
                    "execution_count": 1,
                    "data": {
                        "application/vnd.dataresource+json": {
                            "schema": {
                                "fields": [
                                    {
                                        "name": "client"
                                    },
                                    {
                                        "name": "venta"
                                    }
                                ]
                            },
                            "data": [
                                {
                                    "client": "Darryl Hu",
                                    "venta": "70901002033.35"
                                },
                                {
                                    "client": "Dalton Coleman",
                                    "venta": "70565366033.52"
                                },
                                {
                                    "client": "Natalie Sanders",
                                    "venta": "67919141236.04"
                                },
                                {
                                    "client": "Frank Munoz",
                                    "venta": "51226777125.23"
                                },
                                {
                                    "client": "Samantha Taylor",
                                    "venta": "49244089224.94"
                                },
                                {
                                    "client": "Wyatt Thompson",
                                    "venta": "38451147673.85"
                                },
                                {
                                    "client": "Jeremy Wright",
                                    "venta": "37277067463.64"
                                },
                                {
                                    "client": "Richard White",
                                    "venta": "36053081079.66"
                                },
                                {
                                    "client": "Walter Navarro",
                                    "venta": "31782541136.18"
                                },
                                {
                                    "client": "Bruce Torres",
                                    "venta": "29017836751.51"
                                },
                                {
                                    "client": "Lori Alvarez",
                                    "venta": "28975336856.98"
                                },
                                {
                                    "client": "Katherine King",
                                    "venta": "28805206782.28"
                                },
                                {
                                    "client": "Christy Goel",
                                    "venta": "26646398814.95"
                                },
                                {
                                    "client": "Cole Gray",
                                    "venta": "26509966198.91"
                                },
                                {
                                    "client": "Angelica Jenkins",
                                    "venta": "26184384425.58"
                                },
                                {
                                    "client": "Melody Dominguez",
                                    "venta": "25202496779.42"
                                },
                                {
                                    "client": "Jack Carter",
                                    "venta": "23481667407.65"
                                },
                                {
                                    "client": "Andre Arun",
                                    "venta": "23075727425.98"
                                },
                                {
                                    "client": "Elizabeth White",
                                    "venta": "22301621253.78"
                                },
                                {
                                    "client": "Luke Edwards",
                                    "venta": "22143573243.17"
                                },
                                {
                                    "client": "Seth Perry",
                                    "venta": "21611917907.93"
                                },
                                {
                                    "client": "Sheena Lal",
                                    "venta": "20567497028.16"
                                },
                                {
                                    "client": "Grant Pal",
                                    "venta": "20231665650.74"
                                },
                                {
                                    "client": "Thomas Gonzales",
                                    "venta": "20209121543.33"
                                },
                                {
                                    "client": "Nathaniel Howard",
                                    "venta": "17068221799.20"
                                },
                                {
                                    "client": "Roy Romero",
                                    "venta": "16709121434.26"
                                },
                                {
                                    "client": "Jasmine Butler",
                                    "venta": "16545307949.96"
                                },
                                {
                                    "client": "Raul Xu",
                                    "venta": "15695789463.57"
                                },
                                {
                                    "client": "Deanna Moreno",
                                    "venta": "14901146976.16"
                                },
                                {
                                    "client": "James Bailey",
                                    "venta": "14454932619.89"
                                },
                                {
                                    "client": "Kellie Torres",
                                    "venta": "14106135173.80"
                                },
                                {
                                    "client": "Ryan Long",
                                    "venta": "13841625504.69"
                                },
                                {
                                    "client": "Lauren Cook",
                                    "venta": "13512906648.99"
                                },
                                {
                                    "client": "Fernando Williams",
                                    "venta": "13398876114.99"
                                },
                                {
                                    "client": "Anna Martinez",
                                    "venta": "12994345135.58"
                                },
                                {
                                    "client": "Toni Rodriguez",
                                    "venta": "12428472160.92"
                                },
                                {
                                    "client": "Paige Ramirez",
                                    "venta": "12293601726.11"
                                },
                                {
                                    "client": "Isabelle Barnes",
                                    "venta": "11856806816.53"
                                },
                                {
                                    "client": "Karen Berge",
                                    "venta": "11622857258.91"
                                },
                                {
                                    "client": "Alvin She",
                                    "venta": "11498632475.89"
                                },
                                {
                                    "client": "Noah Phillips",
                                    "venta": "11412950386.59"
                                },
                                {
                                    "client": "Victoria Rodriguez",
                                    "venta": "11412597807.81"
                                },
                                {
                                    "client": "Antonio Gonzales",
                                    "venta": "11112996743.05"
                                },
                                {
                                    "client": "Patricia Zubaty",
                                    "venta": "11112897792.81"
                                },
                                {
                                    "client": "Gloria Alonso",
                                    "venta": "10867989176.70"
                                },
                                {
                                    "client": "Joseph Rodriguez",
                                    "venta": "10795566860.58"
                                },
                                {
                                    "client": "Rosa Lu",
                                    "venta": "10655355750.90"
                                },
                                {
                                    "client": "Alexis Hughes",
                                    "venta": "10202086164.27"
                                },
                                {
                                    "client": "Jenna Lopez",
                                    "venta": "9856730929.07"
                                },
                                {
                                    "client": "Alex Carter",
                                    "venta": "9692407528.05"
                                }
                            ]
                        },
                        "text/html": "<table><tr><th>client</th><th>venta</th></tr><tr><td>Darryl Hu</td><td>70901002033.35</td></tr><tr><td>Dalton Coleman</td><td>70565366033.52</td></tr><tr><td>Natalie Sanders</td><td>67919141236.04</td></tr><tr><td>Frank Munoz</td><td>51226777125.23</td></tr><tr><td>Samantha Taylor</td><td>49244089224.94</td></tr><tr><td>Wyatt Thompson</td><td>38451147673.85</td></tr><tr><td>Jeremy Wright</td><td>37277067463.64</td></tr><tr><td>Richard White</td><td>36053081079.66</td></tr><tr><td>Walter Navarro</td><td>31782541136.18</td></tr><tr><td>Bruce Torres</td><td>29017836751.51</td></tr><tr><td>Lori Alvarez</td><td>28975336856.98</td></tr><tr><td>Katherine King</td><td>28805206782.28</td></tr><tr><td>Christy Goel</td><td>26646398814.95</td></tr><tr><td>Cole Gray</td><td>26509966198.91</td></tr><tr><td>Angelica Jenkins</td><td>26184384425.58</td></tr><tr><td>Melody Dominguez</td><td>25202496779.42</td></tr><tr><td>Jack Carter</td><td>23481667407.65</td></tr><tr><td>Andre Arun</td><td>23075727425.98</td></tr><tr><td>Elizabeth White</td><td>22301621253.78</td></tr><tr><td>Luke Edwards</td><td>22143573243.17</td></tr><tr><td>Seth Perry</td><td>21611917907.93</td></tr><tr><td>Sheena Lal</td><td>20567497028.16</td></tr><tr><td>Grant Pal</td><td>20231665650.74</td></tr><tr><td>Thomas Gonzales</td><td>20209121543.33</td></tr><tr><td>Nathaniel Howard</td><td>17068221799.20</td></tr><tr><td>Roy Romero</td><td>16709121434.26</td></tr><tr><td>Jasmine Butler</td><td>16545307949.96</td></tr><tr><td>Raul Xu</td><td>15695789463.57</td></tr><tr><td>Deanna Moreno</td><td>14901146976.16</td></tr><tr><td>James Bailey</td><td>14454932619.89</td></tr><tr><td>Kellie Torres</td><td>14106135173.80</td></tr><tr><td>Ryan Long</td><td>13841625504.69</td></tr><tr><td>Lauren Cook</td><td>13512906648.99</td></tr><tr><td>Fernando Williams</td><td>13398876114.99</td></tr><tr><td>Anna Martinez</td><td>12994345135.58</td></tr><tr><td>Toni Rodriguez</td><td>12428472160.92</td></tr><tr><td>Paige Ramirez</td><td>12293601726.11</td></tr><tr><td>Isabelle Barnes</td><td>11856806816.53</td></tr><tr><td>Karen Berge</td><td>11622857258.91</td></tr><tr><td>Alvin She</td><td>11498632475.89</td></tr><tr><td>Noah Phillips</td><td>11412950386.59</td></tr><tr><td>Victoria Rodriguez</td><td>11412597807.81</td></tr><tr><td>Antonio Gonzales</td><td>11112996743.05</td></tr><tr><td>Patricia Zubaty</td><td>11112897792.81</td></tr><tr><td>Gloria Alonso</td><td>10867989176.70</td></tr><tr><td>Joseph Rodriguez</td><td>10795566860.58</td></tr><tr><td>Rosa Lu</td><td>10655355750.90</td></tr><tr><td>Alexis Hughes</td><td>10202086164.27</td></tr><tr><td>Jenna Lopez</td><td>9856730929.07</td></tr><tr><td>Alex Carter</td><td>9692407528.05</td></tr></table>"
                    },
                    "metadata": {}
                }
            ],
            "execution_count": 1
        },
        {
            "cell_type": "code",
            "source": [
                "/* Top 50 de Customers: Customers más pedidos hacen */\r\n",
                "SELECT Top(50) \r\n",
                "    CONCAT (Customers.FirstName, ' ', Customers.LastName) as client,\r\n",
                "    COUNT(sales.SalesID) AS n_compras\r\n",
                "FROM Customers \r\n",
                "    JOIN sales on Customers.CustomerID = Sales.CustomerID \r\n",
                "    JOIN Products on Products.ProductID = Sales.ProductID\r\n",
                "Group BY CONCAT (Customers.FirstName, ' ', Customers.LastName)\r\n",
                "ORDER BY n_compras DESC"
            ],
            "metadata": {
                "azdata_cell_guid": "8dbebb50-266a-44e5-a1b1-a8a94ec2c800",
                "language": "sql"
            },
            "outputs": [
                {
                    "output_type": "display_data",
                    "data": {
                        "text/html": "(50 rows affected)"
                    },
                    "metadata": {}
                },
                {
                    "output_type": "display_data",
                    "data": {
                        "text/html": "Total execution time: 00:00:00.916"
                    },
                    "metadata": {}
                },
                {
                    "output_type": "execute_result",
                    "execution_count": 2,
                    "data": {
                        "application/vnd.dataresource+json": {
                            "schema": {
                                "fields": [
                                    {
                                        "name": "client"
                                    },
                                    {
                                        "name": "n_compras"
                                    }
                                ]
                            },
                            "data": [
                                {
                                    "client": "Richard White",
                                    "n_compras": "38907"
                                },
                                {
                                    "client": "Eduardo Walker",
                                    "n_compras": "38790"
                                },
                                {
                                    "client": "Marcus Gray",
                                    "n_compras": "38341"
                                },
                                {
                                    "client": "Caleb Parker",
                                    "n_compras": "37814"
                                },
                                {
                                    "client": "Deanna Moreno",
                                    "n_compras": "34023"
                                },
                                {
                                    "client": "Nancy Chapman",
                                    "n_compras": "33336"
                                },
                                {
                                    "client": "Alan Guo",
                                    "n_compras": "33207"
                                },
                                {
                                    "client": "Paige Ramirez",
                                    "n_compras": "33188"
                                },
                                {
                                    "client": "Mark Lee",
                                    "n_compras": "33010"
                                },
                                {
                                    "client": "Isaac James",
                                    "n_compras": "32981"
                                },
                                {
                                    "client": "Robin Hernandez",
                                    "n_compras": "32961"
                                },
                                {
                                    "client": "Lauren Cook",
                                    "n_compras": "32854"
                                },
                                {
                                    "client": "Joyce Jarvis",
                                    "n_compras": "32739"
                                },
                                {
                                    "client": "Ryan Long",
                                    "n_compras": "32733"
                                },
                                {
                                    "client": "Carrie Gill",
                                    "n_compras": "32714"
                                },
                                {
                                    "client": "Andrew Jackson",
                                    "n_compras": "32675"
                                },
                                {
                                    "client": "Kathryn Deng",
                                    "n_compras": "32642"
                                },
                                {
                                    "client": "Elizabeth White",
                                    "n_compras": "32607"
                                },
                                {
                                    "client": "Karl Raje",
                                    "n_compras": "32529"
                                },
                                {
                                    "client": "Carlos Rivera",
                                    "n_compras": "32517"
                                },
                                {
                                    "client": "Micheal Travers",
                                    "n_compras": "32486"
                                },
                                {
                                    "client": "Leslie Ortega",
                                    "n_compras": "32483"
                                },
                                {
                                    "client": "Gerald Gomez",
                                    "n_compras": "32475"
                                },
                                {
                                    "client": "Emmanuel Suri",
                                    "n_compras": "32432"
                                },
                                {
                                    "client": "Seth Perry",
                                    "n_compras": "32406"
                                },
                                {
                                    "client": "Kellie Torres",
                                    "n_compras": "32393"
                                },
                                {
                                    "client": "Katelyn Rogers",
                                    "n_compras": "32373"
                                },
                                {
                                    "client": "Sheena Lal",
                                    "n_compras": "32362"
                                },
                                {
                                    "client": "Taylor Henderson",
                                    "n_compras": "32359"
                                },
                                {
                                    "client": "Sylvia Caldwell",
                                    "n_compras": "32354"
                                },
                                {
                                    "client": "Ethan Clark",
                                    "n_compras": "32311"
                                },
                                {
                                    "client": "Heidi Rodriguez",
                                    "n_compras": "32292"
                                },
                                {
                                    "client": "Mackenzie Carter",
                                    "n_compras": "32201"
                                },
                                {
                                    "client": "Emily Clark",
                                    "n_compras": "32192"
                                },
                                {
                                    "client": "Kelvin He",
                                    "n_compras": "32189"
                                },
                                {
                                    "client": "Rachel Ramirez",
                                    "n_compras": "32170"
                                },
                                {
                                    "client": "Joseph Rodriguez",
                                    "n_compras": "32131"
                                },
                                {
                                    "client": "Marcus Hall",
                                    "n_compras": "32128"
                                },
                                {
                                    "client": "Nathaniel Morris",
                                    "n_compras": "32123"
                                },
                                {
                                    "client": "Rosa Lu",
                                    "n_compras": "32068"
                                },
                                {
                                    "client": "Alvin She",
                                    "n_compras": "32045"
                                },
                                {
                                    "client": "Alyssa Wood",
                                    "n_compras": "32044"
                                },
                                {
                                    "client": "Samuel Russell",
                                    "n_compras": "32031"
                                },
                                {
                                    "client": "Luis Hayes",
                                    "n_compras": "32008"
                                },
                                {
                                    "client": "Sierra Hernandez",
                                    "n_compras": "32001"
                                },
                                {
                                    "client": "Angel Roberts",
                                    "n_compras": "31982"
                                },
                                {
                                    "client": "Anna Martinez",
                                    "n_compras": "31979"
                                },
                                {
                                    "client": "Diane Suarez",
                                    "n_compras": "31931"
                                },
                                {
                                    "client": "Priscilla Raji",
                                    "n_compras": "31927"
                                },
                                {
                                    "client": "Cesar Perez",
                                    "n_compras": "31917"
                                }
                            ]
                        },
                        "text/html": "<table><tr><th>client</th><th>n_compras</th></tr><tr><td>Richard White</td><td>38907</td></tr><tr><td>Eduardo Walker</td><td>38790</td></tr><tr><td>Marcus Gray</td><td>38341</td></tr><tr><td>Caleb Parker</td><td>37814</td></tr><tr><td>Deanna Moreno</td><td>34023</td></tr><tr><td>Nancy Chapman</td><td>33336</td></tr><tr><td>Alan Guo</td><td>33207</td></tr><tr><td>Paige Ramirez</td><td>33188</td></tr><tr><td>Mark Lee</td><td>33010</td></tr><tr><td>Isaac James</td><td>32981</td></tr><tr><td>Robin Hernandez</td><td>32961</td></tr><tr><td>Lauren Cook</td><td>32854</td></tr><tr><td>Joyce Jarvis</td><td>32739</td></tr><tr><td>Ryan Long</td><td>32733</td></tr><tr><td>Carrie Gill</td><td>32714</td></tr><tr><td>Andrew Jackson</td><td>32675</td></tr><tr><td>Kathryn Deng</td><td>32642</td></tr><tr><td>Elizabeth White</td><td>32607</td></tr><tr><td>Karl Raje</td><td>32529</td></tr><tr><td>Carlos Rivera</td><td>32517</td></tr><tr><td>Micheal Travers</td><td>32486</td></tr><tr><td>Leslie Ortega</td><td>32483</td></tr><tr><td>Gerald Gomez</td><td>32475</td></tr><tr><td>Emmanuel Suri</td><td>32432</td></tr><tr><td>Seth Perry</td><td>32406</td></tr><tr><td>Kellie Torres</td><td>32393</td></tr><tr><td>Katelyn Rogers</td><td>32373</td></tr><tr><td>Sheena Lal</td><td>32362</td></tr><tr><td>Taylor Henderson</td><td>32359</td></tr><tr><td>Sylvia Caldwell</td><td>32354</td></tr><tr><td>Ethan Clark</td><td>32311</td></tr><tr><td>Heidi Rodriguez</td><td>32292</td></tr><tr><td>Mackenzie Carter</td><td>32201</td></tr><tr><td>Emily Clark</td><td>32192</td></tr><tr><td>Kelvin He</td><td>32189</td></tr><tr><td>Rachel Ramirez</td><td>32170</td></tr><tr><td>Joseph Rodriguez</td><td>32131</td></tr><tr><td>Marcus Hall</td><td>32128</td></tr><tr><td>Nathaniel Morris</td><td>32123</td></tr><tr><td>Rosa Lu</td><td>32068</td></tr><tr><td>Alvin She</td><td>32045</td></tr><tr><td>Alyssa Wood</td><td>32044</td></tr><tr><td>Samuel Russell</td><td>32031</td></tr><tr><td>Luis Hayes</td><td>32008</td></tr><tr><td>Sierra Hernandez</td><td>32001</td></tr><tr><td>Angel Roberts</td><td>31982</td></tr><tr><td>Anna Martinez</td><td>31979</td></tr><tr><td>Diane Suarez</td><td>31931</td></tr><tr><td>Priscilla Raji</td><td>31927</td></tr><tr><td>Cesar Perez</td><td>31917</td></tr></table>"
                    },
                    "metadata": {}
                }
            ],
            "execution_count": 2
        },
        {
            "cell_type": "code",
            "source": [
                "/* Ranked Principales Shippers: Los que más envíos hacen */\r\n",
                "SELECT TOP(5)\r\n",
                "\tShippers.ShipperName, \r\n",
                "\tCOUNT(sales.SalesID) AS n_Envios\r\n",
                "FROM sales \r\n",
                "\tJOIN Shippers on Shippers.ShipperID = Sales.ShipperID\r\n",
                "GROUP BY Shippers.ShipperName\r\n",
                "Order By n_Envios  DESC"
            ],
            "metadata": {
                "azdata_cell_guid": "6036f997-6ee5-46fb-8a88-187b78e69443",
                "language": "sql"
            },
            "outputs": [
                {
                    "output_type": "display_data",
                    "data": {
                        "text/html": "(5 rows affected)"
                    },
                    "metadata": {}
                },
                {
                    "output_type": "display_data",
                    "data": {
                        "text/html": "Total execution time: 00:00:01.155"
                    },
                    "metadata": {}
                },
                {
                    "output_type": "execute_result",
                    "execution_count": 4,
                    "data": {
                        "application/vnd.dataresource+json": {
                            "schema": {
                                "fields": [
                                    {
                                        "name": "ShipperName"
                                    },
                                    {
                                        "name": "n_Envios"
                                    }
                                ]
                            },
                            "data": [
                                {
                                    "ShipperName": "AeroSwift Shipping",
                                    "n_Envios": "673214"
                                },
                                {
                                    "ShipperName": "JetStream Logistics",
                                    "n_Envios": "672261"
                                },
                                {
                                    "ShipperName": "CosmoMovers",
                                    "n_Envios": "672202"
                                },
                                {
                                    "ShipperName": "GalaxyHaulers",
                                    "n_Envios": "671847"
                                },
                                {
                                    "ShipperName": "ZephyrFreight",
                                    "n_Envios": "671774"
                                }
                            ]
                        },
                        "text/html": "<table><tr><th>ShipperName</th><th>n_Envios</th></tr><tr><td>AeroSwift Shipping</td><td>673214</td></tr><tr><td>JetStream Logistics</td><td>672261</td></tr><tr><td>CosmoMovers</td><td>672202</td></tr><tr><td>GalaxyHaulers</td><td>671847</td></tr><tr><td>ZephyrFreight</td><td>671774</td></tr></table>"
                    },
                    "metadata": {}
                }
            ],
            "execution_count": 4
        },
        {
            "cell_type": "code",
            "source": [
                "/* Ranked Principales Shippers: COSTOS DE ENVÍO  */\r\n",
                "SELECT Top(5)\r\n",
                "\tShippers.ShipperName, \r\n",
                "\tSUM(Shippers.Shipping_Cost_Percent *  sales.Quantity * Products.Price ) AS Costo_Envios\r\n",
                "FROM sales \r\n",
                "\tJOIN Shippers on Shippers.ShipperID = Sales.ShipperID\r\n",
                "\tJOIN Products on Sales.ProductID = Products.ProductID\r\n",
                "GROUP BY Shippers.ShipperName\r\n",
                "Order By Costo_Envios DESC"
            ],
            "metadata": {
                "azdata_cell_guid": "2ab669b5-0602-4933-8342-1a7d1ba982eb",
                "language": "sql"
            },
            "outputs": [
                {
                    "output_type": "display_data",
                    "data": {
                        "text/html": "(5 rows affected)"
                    },
                    "metadata": {}
                },
                {
                    "output_type": "display_data",
                    "data": {
                        "text/html": "Total execution time: 00:00:04.969"
                    },
                    "metadata": {}
                },
                {
                    "output_type": "execute_result",
                    "execution_count": 5,
                    "data": {
                        "application/vnd.dataresource+json": {
                            "schema": {
                                "fields": [
                                    {
                                        "name": "ShipperName"
                                    },
                                    {
                                        "name": "Costo_Envios"
                                    }
                                ]
                            },
                            "data": [
                                {
                                    "ShipperName": "GalaxyHaulers",
                                    "Costo_Envios": "30437439878.378532"
                                },
                                {
                                    "ShipperName": "StarShip Express",
                                    "Costo_Envios": "29262427306.63086"
                                },
                                {
                                    "ShipperName": "AeroSwift Shipping",
                                    "Costo_Envios": "26609357186.44352"
                                },
                                {
                                    "ShipperName": "MagmaTrans",
                                    "Costo_Envios": "25166816420.32429"
                                },
                                {
                                    "ShipperName": "JetStream Logistics",
                                    "Costo_Envios": "22837066381.89254"
                                }
                            ]
                        },
                        "text/html": "<table><tr><th>ShipperName</th><th>Costo_Envios</th></tr><tr><td>GalaxyHaulers</td><td>30437439878.378532</td></tr><tr><td>StarShip Express</td><td>29262427306.63086</td></tr><tr><td>AeroSwift Shipping</td><td>26609357186.44352</td></tr><tr><td>MagmaTrans</td><td>25166816420.32429</td></tr><tr><td>JetStream Logistics</td><td>22837066381.89254</td></tr></table>"
                    },
                    "metadata": {}
                }
            ],
            "execution_count": 5
        },
        {
            "cell_type": "code",
            "source": [
                "/* Ranked Productos: Productos más vendidos */\r\n",
                "SELECT \r\n",
                "\tTOP(10)\r\n",
                "\tProducts.Name,\r\n",
                "\tsum(sales.Quantity) as n_ventas\r\n",
                "FROM Products\r\n",
                "\tJoin Sales on sales.ProductID = Products.ProductID\r\n",
                "group by Products.Name\r\n",
                "order by n_ventas desc"
            ],
            "metadata": {
                "azdata_cell_guid": "d58cff7d-c107-4c1d-96b0-21cac6f0a312",
                "language": "sql"
            },
            "outputs": [
                {
                    "output_type": "display_data",
                    "data": {
                        "text/html": "(10 rows affected)"
                    },
                    "metadata": {}
                },
                {
                    "output_type": "display_data",
                    "data": {
                        "text/html": "Total execution time: 00:00:01.066"
                    },
                    "metadata": {}
                },
                {
                    "output_type": "execute_result",
                    "execution_count": 6,
                    "data": {
                        "application/vnd.dataresource+json": {
                            "schema": {
                                "fields": [
                                    {
                                        "name": "Name"
                                    },
                                    {
                                        "name": "n_ventas"
                                    }
                                ]
                            },
                            "data": [
                                {
                                    "Name": "Touring-3000 Blue, 54",
                                    "n_ventas": "32886900"
                                },
                                {
                                    "Name": "LL Road Seat/Saddle",
                                    "n_ventas": "30968983"
                                },
                                {
                                    "Name": "Touring Pedal",
                                    "n_ventas": "30021052"
                                },
                                {
                                    "Name": "Rear Derailleur",
                                    "n_ventas": "29975003"
                                },
                                {
                                    "Name": "ML Mountain Tire",
                                    "n_ventas": "29085729"
                                },
                                {
                                    "Name": "Headlights - Weatherproof",
                                    "n_ventas": "28913399"
                                },
                                {
                                    "Name": "ML Mountain Frame - Black, 44",
                                    "n_ventas": "27875123"
                                },
                                {
                                    "Name": "ML Mountain Frame-W - Silver, 38",
                                    "n_ventas": "27486126"
                                },
                                {
                                    "Name": "LL Road Front Wheel",
                                    "n_ventas": "27396348"
                                },
                                {
                                    "Name": "Touring-3000 Blue, 58",
                                    "n_ventas": "26872899"
                                }
                            ]
                        },
                        "text/html": "<table><tr><th>Name</th><th>n_ventas</th></tr><tr><td>Touring-3000 Blue, 54</td><td>32886900</td></tr><tr><td>LL Road Seat/Saddle</td><td>30968983</td></tr><tr><td>Touring Pedal</td><td>30021052</td></tr><tr><td>Rear Derailleur</td><td>29975003</td></tr><tr><td>ML Mountain Tire</td><td>29085729</td></tr><tr><td>Headlights - Weatherproof</td><td>28913399</td></tr><tr><td>ML Mountain Frame - Black, 44</td><td>27875123</td></tr><tr><td>ML Mountain Frame-W - Silver, 38</td><td>27486126</td></tr><tr><td>LL Road Front Wheel</td><td>27396348</td></tr><tr><td>Touring-3000 Blue, 58</td><td>26872899</td></tr></table>"
                    },
                    "metadata": {}
                }
            ],
            "execution_count": 6
        },
        {
            "cell_type": "code",
            "source": [
                "/* Top 5 de ciudades con más pedidos y el producto más comprado en cada una de ellas */\r\n",
                "SELECT TOP(5)\r\n",
                "    Cities.CityName,\r\n",
                "    COUNT(Sales.SalesID) as n_pedidos,\r\n",
                "    r.Name as producto_mas_comprado\r\n",
                "FROM Cities\r\n",
                "JOIN Customers ON Customers.CityID = Cities.CityID\r\n",
                "JOIN Sales ON Sales.CustomerID = Customers.CustomerID\r\n",
                "JOIN (\r\n",
                "    /* \r\n",
                "        Tabla con el producto más comprado por ciudad\r\n",
                "    */\r\n",
                "    SELECT Cityname, quant, Name, CityID\r\n",
                "    FROM (\r\n",
                "\t\t/*  \r\n",
                "\t\t    Tabla con la cantidad de productos vendidos por ciudad y producto, \r\n",
                "            ordenada de mayor a menor y con un número de fila para subtabla de cada ciudad.\r\n",
                "\t\t*/\r\n",
                "        SELECT Cities.Cityname, SUM(Sales.Quantity) as quant, products.Name, Cities.CityID,\r\n",
                "               ROW_NUMBER() OVER (PARTITION BY Cities.Cityname ORDER BY SUM(Sales.Quantity) DESC) as rn\r\n",
                "        FROM products\r\n",
                "        JOIN sales ON Sales.ProductID = Products.ProductID\r\n",
                "        JOIN Customers ON Sales.CustomerID = Customers.CustomerID\r\n",
                "        JOIN Cities ON Customers.CityID = Cities.CityID\r\n",
                "        GROUP BY Cities.Cityname, Cities.CityID, products.Name\r\n",
                "    ) as t\r\n",
                "    WHERE rn = 1\r\n",
                ") as r ON r.CityID = Cities.CityID\r\n",
                "GROUP BY Cities.CityName, r.Name\r\n",
                "ORDER BY n_pedidos DESC;"
            ],
            "metadata": {
                "azdata_cell_guid": "b9a2e5c6-b6f6-45fa-a668-f1c1a1c0b1c6",
                "language": "sql"
            },
            "outputs": [
                {
                    "output_type": "display_data",
                    "data": {
                        "text/html": "(5 rows affected)"
                    },
                    "metadata": {}
                },
                {
                    "output_type": "display_data",
                    "data": {
                        "text/html": "Total execution time: 00:00:06.506"
                    },
                    "metadata": {}
                },
                {
                    "output_type": "execute_result",
                    "execution_count": 7,
                    "data": {
                        "application/vnd.dataresource+json": {
                            "schema": {
                                "fields": [
                                    {
                                        "name": "CityName"
                                    },
                                    {
                                        "name": "n_pedidos"
                                    },
                                    {
                                        "name": "producto_mas_comprado"
                                    }
                                ]
                            },
                            "data": [
                                {
                                    "CityName": "Tokyo",
                                    "n_pedidos": "425527",
                                    "producto_mas_comprado": "Lock Nut 16"
                                },
                                {
                                    "CityName": "Cairo",
                                    "n_pedidos": "422166",
                                    "producto_mas_comprado": "Touring-3000 Blue, 58"
                                },
                                {
                                    "CityName": "Auckland",
                                    "n_pedidos": "328185",
                                    "producto_mas_comprado": "Chainring Nut"
                                },
                                {
                                    "CityName": "Athens",
                                    "n_pedidos": "318773",
                                    "producto_mas_comprado": "LL Road Seat/Saddle"
                                },
                                {
                                    "CityName": "Moscow",
                                    "n_pedidos": "316679",
                                    "producto_mas_comprado": "Touring-3000 Blue, 62"
                                }
                            ]
                        },
                        "text/html": "<table><tr><th>CityName</th><th>n_pedidos</th><th>producto_mas_comprado</th></tr><tr><td>Tokyo</td><td>425527</td><td>Lock Nut 16</td></tr><tr><td>Cairo</td><td>422166</td><td>Touring-3000 Blue, 58</td></tr><tr><td>Auckland</td><td>328185</td><td>Chainring Nut</td></tr><tr><td>Athens</td><td>318773</td><td>LL Road Seat/Saddle</td></tr><tr><td>Moscow</td><td>316679</td><td>Touring-3000 Blue, 62</td></tr></table>"
                    },
                    "metadata": {}
                }
            ],
            "execution_count": 7
        },
        {
            "cell_type": "code",
            "source": [
                "/* Edades que más compras hacen */\r\n",
                "\r\n",
                "SELECT top(5) customers.Age , Count(Sales.SalesID) as n_pedidos\r\n",
                "From customers\r\n",
                "\tJoin Sales on Sales.CustomerID = customers.CustomerID\r\n",
                "Group by customers.Age\r\n",
                "Order by n_pedidos desc"
            ],
            "metadata": {
                "azdata_cell_guid": "5fe54b0d-a84e-4848-807e-86da3e912d2e",
                "language": "sql"
            },
            "outputs": [
                {
                    "output_type": "display_data",
                    "data": {
                        "text/html": "(5 rows affected)"
                    },
                    "metadata": {}
                },
                {
                    "output_type": "display_data",
                    "data": {
                        "text/html": "Total execution time: 00:00:00.985"
                    },
                    "metadata": {}
                },
                {
                    "output_type": "execute_result",
                    "execution_count": 8,
                    "data": {
                        "application/vnd.dataresource+json": {
                            "schema": {
                                "fields": [
                                    {
                                        "name": "Age"
                                    },
                                    {
                                        "name": "n_pedidos"
                                    }
                                ]
                            },
                            "data": [
                                {
                                    "Age": "38",
                                    "n_pedidos": "350860"
                                },
                                {
                                    "Age": "56",
                                    "n_pedidos": "242370"
                                },
                                {
                                    "Age": "54",
                                    "n_pedidos": "236692"
                                },
                                {
                                    "Age": "64",
                                    "n_pedidos": "219971"
                                },
                                {
                                    "Age": "50",
                                    "n_pedidos": "218490"
                                }
                            ]
                        },
                        "text/html": "<table><tr><th>Age</th><th>n_pedidos</th></tr><tr><td>38</td><td>350860</td></tr><tr><td>56</td><td>242370</td></tr><tr><td>54</td><td>236692</td></tr><tr><td>64</td><td>219971</td></tr><tr><td>50</td><td>218490</td></tr></table>"
                    },
                    "metadata": {}
                }
            ],
            "execution_count": 8
        },
        {
            "cell_type": "code",
            "source": [
                "/* Fracción de Envíos locales vs total de envíos */\r\n",
                "\r\n",
                "Select total_envios.city_name, (local_envios.local_envios*100 / total_envios.total_envios) as porcentaje_envios_locales\r\n",
                "From (\r\n",
                "    SELECT top(500) cities.cityname as city_name, count(sales.salesid) as total_envios\r\n",
                "    From sales\r\n",
                "        join customers on sales.customerid = customers.customerid\r\n",
                "        join products on sales.productid = products.productid\r\n",
                "        join cities on customers.cityid = cities.cityid\r\n",
                "    group by cities.cityname\r\n",
                ") as total_envios\r\n",
                "left Join (\r\n",
                "    SELECT top(500) cities.cityname as city_name, count(sales.salesid) as local_envios\r\n",
                "    From sales\r\n",
                "        join customers on sales.customerid = customers.customerid\r\n",
                "        join products on (products.CityID = customers.CityID and products.productid = sales.productid) \r\n",
                "        join cities on customers.cityid = cities.cityid\r\n",
                "    group by cities.cityname\r\n",
                ") as local_envios on total_envios.city_name = local_envios.city_name\r\n",
                "order by porcentaje_envios_locales desc"
            ],
            "metadata": {
                "azdata_cell_guid": "ca788989-aeff-4e1f-a453-103d1bc6c4c2",
                "language": "sql"
            },
            "outputs": [
                {
                    "output_type": "display_data",
                    "data": {
                        "text/html": "(27 rows affected)"
                    },
                    "metadata": {}
                },
                {
                    "output_type": "display_data",
                    "data": {
                        "text/html": "Total execution time: 00:00:03.909"
                    },
                    "metadata": {}
                },
                {
                    "output_type": "execute_result",
                    "execution_count": 9,
                    "data": {
                        "application/vnd.dataresource+json": {
                            "schema": {
                                "fields": [
                                    {
                                        "name": "city_name"
                                    },
                                    {
                                        "name": "porcentaje_envios_locales"
                                    }
                                ]
                            },
                            "data": [
                                {
                                    "city_name": "Paris",
                                    "porcentaje_envios_locales": "9"
                                },
                                {
                                    "city_name": "Cairo",
                                    "porcentaje_envios_locales": "7"
                                },
                                {
                                    "city_name": "Amsterdam",
                                    "porcentaje_envios_locales": "7"
                                },
                                {
                                    "city_name": "Seoul",
                                    "porcentaje_envios_locales": "3"
                                },
                                {
                                    "city_name": "Dubai",
                                    "porcentaje_envios_locales": "2"
                                },
                                {
                                    "city_name": "San Francisco",
                                    "porcentaje_envios_locales": "2"
                                },
                                {
                                    "city_name": "Beijing",
                                    "porcentaje_envios_locales": "2"
                                },
                                {
                                    "city_name": "Bangkok",
                                    "porcentaje_envios_locales": "1"
                                },
                                {
                                    "city_name": "Prague",
                                    "porcentaje_envios_locales": "1"
                                },
                                {
                                    "city_name": "Rio de Janeiro",
                                    "porcentaje_envios_locales": "1"
                                },
                                {
                                    "city_name": "Rome",
                                    "porcentaje_envios_locales": "1"
                                },
                                {
                                    "city_name": "New York",
                                    "porcentaje_envios_locales": "1"
                                },
                                {
                                    "city_name": "Sydney",
                                    "porcentaje_envios_locales": "1"
                                },
                                {
                                    "city_name": "Tokyo",
                                    "porcentaje_envios_locales": "0"
                                },
                                {
                                    "city_name": "Toronto",
                                    "porcentaje_envios_locales": "0"
                                },
                                {
                                    "city_name": "Vienna",
                                    "porcentaje_envios_locales": "0"
                                },
                                {
                                    "city_name": "London",
                                    "porcentaje_envios_locales": "0"
                                },
                                {
                                    "city_name": "Mumbai",
                                    "porcentaje_envios_locales": "0"
                                },
                                {
                                    "city_name": "Auckland",
                                    "porcentaje_envios_locales": "0"
                                },
                                {
                                    "city_name": "Istanbul",
                                    "porcentaje_envios_locales": "0"
                                },
                                {
                                    "city_name": "Moscow",
                                    "porcentaje_envios_locales": "NULL"
                                },
                                {
                                    "city_name": "Athens",
                                    "porcentaje_envios_locales": "NULL"
                                },
                                {
                                    "city_name": "Barcelona",
                                    "porcentaje_envios_locales": "NULL"
                                },
                                {
                                    "city_name": "Buenos Aires",
                                    "porcentaje_envios_locales": "NULL"
                                },
                                {
                                    "city_name": "Berlin",
                                    "porcentaje_envios_locales": "NULL"
                                },
                                {
                                    "city_name": "Cape Town",
                                    "porcentaje_envios_locales": "NULL"
                                },
                                {
                                    "city_name": "Singapore",
                                    "porcentaje_envios_locales": "NULL"
                                }
                            ]
                        },
                        "text/html": "<table><tr><th>city_name</th><th>porcentaje_envios_locales</th></tr><tr><td>Paris</td><td>9</td></tr><tr><td>Cairo</td><td>7</td></tr><tr><td>Amsterdam</td><td>7</td></tr><tr><td>Seoul</td><td>3</td></tr><tr><td>Dubai</td><td>2</td></tr><tr><td>San Francisco</td><td>2</td></tr><tr><td>Beijing</td><td>2</td></tr><tr><td>Bangkok</td><td>1</td></tr><tr><td>Prague</td><td>1</td></tr><tr><td>Rio de Janeiro</td><td>1</td></tr><tr><td>Rome</td><td>1</td></tr><tr><td>New York</td><td>1</td></tr><tr><td>Sydney</td><td>1</td></tr><tr><td>Tokyo</td><td>0</td></tr><tr><td>Toronto</td><td>0</td></tr><tr><td>Vienna</td><td>0</td></tr><tr><td>London</td><td>0</td></tr><tr><td>Mumbai</td><td>0</td></tr><tr><td>Auckland</td><td>0</td></tr><tr><td>Istanbul</td><td>0</td></tr><tr><td>Moscow</td><td>NULL</td></tr><tr><td>Athens</td><td>NULL</td></tr><tr><td>Barcelona</td><td>NULL</td></tr><tr><td>Buenos Aires</td><td>NULL</td></tr><tr><td>Berlin</td><td>NULL</td></tr><tr><td>Cape Town</td><td>NULL</td></tr><tr><td>Singapore</td><td>NULL</td></tr></table>"
                    },
                    "metadata": {}
                }
            ],
            "execution_count": 9
        },
        {
            "cell_type": "code",
            "source": [
                "CREATE NONCLUSTERED INDEX IDX_CityName\r\n",
                "on Cities(CityName)"
            ],
            "metadata": {
                "azdata_cell_guid": "5c63f621-07d2-4ecb-9903-1a15609260b0",
                "language": "sql",
                "tags": [
                    "hide_input"
                ]
            },
            "outputs": [
                {
                    "output_type": "display_data",
                    "data": {
                        "text/html": "Commands completed successfully."
                    },
                    "metadata": {}
                },
                {
                    "output_type": "display_data",
                    "data": {
                        "text/html": "Total execution time: 00:00:00.117"
                    },
                    "metadata": {}
                }
            ],
            "execution_count": 19
        },
        {
            "cell_type": "code",
            "source": [
                "EXECUTE sp_helpindex 'Cities'"
            ],
            "metadata": {
                "azdata_cell_guid": "379e4059-eee1-40e2-b338-bb096dbd0065",
                "language": "sql"
            },
            "outputs": [
                {
                    "output_type": "display_data",
                    "data": {
                        "text/html": "Commands completed successfully."
                    },
                    "metadata": {}
                },
                {
                    "output_type": "display_data",
                    "data": {
                        "text/html": "Total execution time: 00:00:00.103"
                    },
                    "metadata": {}
                },
                {
                    "output_type": "execute_result",
                    "execution_count": 23,
                    "data": {
                        "application/vnd.dataresource+json": {
                            "schema": {
                                "fields": [
                                    {
                                        "name": "index_name"
                                    },
                                    {
                                        "name": "index_description"
                                    },
                                    {
                                        "name": "index_keys"
                                    }
                                ]
                            },
                            "data": [
                                {
                                    "index_name": "IDX_CityName",
                                    "index_description": "nonclustered located on PRIMARY",
                                    "index_keys": "CityName"
                                },
                                {
                                    "index_name": "PK__Cities__F2D21A96AC86D056",
                                    "index_description": "clustered, unique, primary key located on PRIMARY",
                                    "index_keys": "CityID"
                                }
                            ]
                        },
                        "text/html": "<table><tr><th>index_name</th><th>index_description</th><th>index_keys</th></tr><tr><td>IDX_CityName</td><td>nonclustered located on PRIMARY</td><td>CityName</td></tr><tr><td>PK__Cities__F2D21A96AC86D056</td><td>clustered, unique, primary key located on PRIMARY</td><td>CityID</td></tr></table>"
                    },
                    "metadata": {}
                }
            ],
            "execution_count": 23
        },
        {
            "cell_type": "code",
            "source": [
                "CREATE NONCLUSTERED INDEX IDX_CustomerFirstName\r\n",
                "on Customers(FirstName)"
            ],
            "metadata": {
                "azdata_cell_guid": "ac0ba32c-b25c-4973-8ea0-348f039702b8",
                "language": "sql",
                "tags": []
            },
            "outputs": [
                {
                    "output_type": "display_data",
                    "data": {
                        "text/html": "Commands completed successfully."
                    },
                    "metadata": {}
                },
                {
                    "output_type": "display_data",
                    "data": {
                        "text/html": "Total execution time: 00:00:00.177"
                    },
                    "metadata": {}
                }
            ],
            "execution_count": 22
        },
        {
            "cell_type": "code",
            "source": [
                "EXECUTE sp_helpindex 'Customers'"
            ],
            "metadata": {
                "azdata_cell_guid": "3d23a590-b263-4698-bf4f-7bb528583a5b",
                "language": "sql"
            },
            "outputs": [
                {
                    "output_type": "display_data",
                    "data": {
                        "text/html": "Commands completed successfully."
                    },
                    "metadata": {}
                },
                {
                    "output_type": "display_data",
                    "data": {
                        "text/html": "Total execution time: 00:00:00.102"
                    },
                    "metadata": {}
                },
                {
                    "output_type": "execute_result",
                    "execution_count": 24,
                    "data": {
                        "application/vnd.dataresource+json": {
                            "schema": {
                                "fields": [
                                    {
                                        "name": "index_name"
                                    },
                                    {
                                        "name": "index_description"
                                    },
                                    {
                                        "name": "index_keys"
                                    }
                                ]
                            },
                            "data": [
                                {
                                    "index_name": "CustomerPK",
                                    "index_description": "clustered, unique, primary key located on PRIMARY",
                                    "index_keys": "CustomerID"
                                },
                                {
                                    "index_name": "IDX_CustomerFirstName",
                                    "index_description": "nonclustered located on PRIMARY",
                                    "index_keys": "FirstName"
                                }
                            ]
                        },
                        "text/html": "<table><tr><th>index_name</th><th>index_description</th><th>index_keys</th></tr><tr><td>CustomerPK</td><td>clustered, unique, primary key located on PRIMARY</td><td>CustomerID</td></tr><tr><td>IDX_CustomerFirstName</td><td>nonclustered located on PRIMARY</td><td>FirstName</td></tr></table>"
                    },
                    "metadata": {}
                }
            ],
            "execution_count": 24
        },
        {
            "cell_type": "code",
            "source": [
                "CREATE NONCLUSTERED INDEX IDX_ProductName\r\n",
                "on Products(Name)"
            ],
            "metadata": {
                "azdata_cell_guid": "97ee88bc-d566-426a-b27d-9d9030bcd907",
                "language": "sql"
            },
            "outputs": [
                {
                    "output_type": "display_data",
                    "data": {
                        "text/html": "Commands completed successfully."
                    },
                    "metadata": {}
                },
                {
                    "output_type": "display_data",
                    "data": {
                        "text/html": "Total execution time: 00:00:00.125"
                    },
                    "metadata": {}
                }
            ],
            "execution_count": 25
        },
        {
            "cell_type": "code",
            "source": [
                "EXECUTE sp_helpindex 'Products'"
            ],
            "metadata": {
                "azdata_cell_guid": "12bb0a1b-5017-47a2-bb85-dc54cc133ba8",
                "language": "sql"
            },
            "outputs": [
                {
                    "output_type": "display_data",
                    "data": {
                        "text/html": "Commands completed successfully."
                    },
                    "metadata": {}
                },
                {
                    "output_type": "display_data",
                    "data": {
                        "text/html": "Total execution time: 00:00:00.104"
                    },
                    "metadata": {}
                },
                {
                    "output_type": "execute_result",
                    "execution_count": 27,
                    "data": {
                        "application/vnd.dataresource+json": {
                            "schema": {
                                "fields": [
                                    {
                                        "name": "index_name"
                                    },
                                    {
                                        "name": "index_description"
                                    },
                                    {
                                        "name": "index_keys"
                                    }
                                ]
                            },
                            "data": [
                                {
                                    "index_name": "IDX_ProductName",
                                    "index_description": "nonclustered located on PRIMARY",
                                    "index_keys": "Name"
                                },
                                {
                                    "index_name": "ProductsPK",
                                    "index_description": "clustered, unique, primary key located on PRIMARY",
                                    "index_keys": "ProductID"
                                }
                            ]
                        },
                        "text/html": "<table><tr><th>index_name</th><th>index_description</th><th>index_keys</th></tr><tr><td>IDX_ProductName</td><td>nonclustered located on PRIMARY</td><td>Name</td></tr><tr><td>ProductsPK</td><td>clustered, unique, primary key located on PRIMARY</td><td>ProductID</td></tr></table>"
                    },
                    "metadata": {}
                }
            ],
            "execution_count": 27
        },
        {
            "cell_type": "code",
            "source": [
                "CREATE PROCEDURE PRODUCTOS_MAS_VENDIDOS\r\n",
                "/* Ranked Productos: Productos más vendidos */\r\n",
                "AS\r\n",
                "BEGIN\r\n",
                "    SELECT TOP 10\r\n",
                "        Products.Name,\r\n",
                "        SUM(Sales.Quantity) AS n_ventas\r\n",
                "    FROM Products\r\n",
                "    JOIN Sales ON Sales.ProductID = Products.ProductID\r\n",
                "    GROUP BY Products.Name\r\n",
                "    ORDER BY n_ventas DESC;\r\n",
                "END;"
            ],
            "metadata": {
                "azdata_cell_guid": "da301f22-aaaf-4020-a06c-8668e604d5ae",
                "language": "sql",
                "tags": []
            },
            "outputs": [
                {
                    "output_type": "display_data",
                    "data": {
                        "text/html": "Commands completed successfully."
                    },
                    "metadata": {}
                },
                {
                    "output_type": "display_data",
                    "data": {
                        "text/html": "Total execution time: 00:00:00.115"
                    },
                    "metadata": {}
                }
            ],
            "execution_count": 6
        },
        {
            "cell_type": "code",
            "source": [
                "EXECUTE PRODUCTOS_MAS_VENDIDOS;"
            ],
            "metadata": {
                "azdata_cell_guid": "c2d40019-693c-4014-9317-37bdd9aeca36",
                "language": "sql"
            },
            "outputs": [
                {
                    "output_type": "display_data",
                    "data": {
                        "text/html": "(10 rows affected)"
                    },
                    "metadata": {}
                },
                {
                    "output_type": "display_data",
                    "data": {
                        "text/html": "Total execution time: 00:00:01.071"
                    },
                    "metadata": {}
                },
                {
                    "output_type": "execute_result",
                    "execution_count": 8,
                    "data": {
                        "application/vnd.dataresource+json": {
                            "schema": {
                                "fields": [
                                    {
                                        "name": "Name"
                                    },
                                    {
                                        "name": "n_ventas"
                                    }
                                ]
                            },
                            "data": [
                                {
                                    "Name": "Touring-3000 Blue, 54",
                                    "n_ventas": "32886900"
                                },
                                {
                                    "Name": "LL Road Seat/Saddle",
                                    "n_ventas": "30968983"
                                },
                                {
                                    "Name": "Touring Pedal",
                                    "n_ventas": "30021052"
                                },
                                {
                                    "Name": "Rear Derailleur",
                                    "n_ventas": "29975003"
                                },
                                {
                                    "Name": "ML Mountain Tire",
                                    "n_ventas": "29085729"
                                },
                                {
                                    "Name": "Headlights - Weatherproof",
                                    "n_ventas": "28913399"
                                },
                                {
                                    "Name": "ML Mountain Frame - Black, 44",
                                    "n_ventas": "27875123"
                                },
                                {
                                    "Name": "ML Mountain Frame-W - Silver, 38",
                                    "n_ventas": "27486126"
                                },
                                {
                                    "Name": "LL Road Front Wheel",
                                    "n_ventas": "27396348"
                                },
                                {
                                    "Name": "Touring-3000 Blue, 58",
                                    "n_ventas": "26872899"
                                }
                            ]
                        },
                        "text/html": "<table><tr><th>Name</th><th>n_ventas</th></tr><tr><td>Touring-3000 Blue, 54</td><td>32886900</td></tr><tr><td>LL Road Seat/Saddle</td><td>30968983</td></tr><tr><td>Touring Pedal</td><td>30021052</td></tr><tr><td>Rear Derailleur</td><td>29975003</td></tr><tr><td>ML Mountain Tire</td><td>29085729</td></tr><tr><td>Headlights - Weatherproof</td><td>28913399</td></tr><tr><td>ML Mountain Frame - Black, 44</td><td>27875123</td></tr><tr><td>ML Mountain Frame-W - Silver, 38</td><td>27486126</td></tr><tr><td>LL Road Front Wheel</td><td>27396348</td></tr><tr><td>Touring-3000 Blue, 58</td><td>26872899</td></tr></table>"
                    },
                    "metadata": {}
                }
            ],
            "execution_count": 8
        },
        {
            "cell_type": "code",
            "source": [
                "CREATE PROCEDURE CIUDADES_MAS_PEDIDOS_PRODUCTO_MAS_COMPRADO\r\n",
                "    @ciudad varchar(10)\r\n",
                "AS\r\n",
                "BEGIN\r\n",
                "    /* Cuerpo del procedimiento almacenado */\r\n",
                "    /* Top de ciudades con más pedidos y el producto más comprado en cada una de ellas */\r\n",
                "    SELECT TOP(10)\r\n",
                "        Cities.CityName,\r\n",
                "        COUNT(Sales.SalesID) as n_pedidos,\r\n",
                "        r.Name as producto_mas_comprado\r\n",
                "    FROM Cities\r\n",
                "    JOIN Customers ON Customers.CityID = Cities.CityID\r\n",
                "    JOIN Sales ON Sales.CustomerID = Customers.CustomerID\r\n",
                "    JOIN (\r\n",
                "        /* Tabla con el producto más comprado por ciudad */\r\n",
                "        SELECT Cityname, quant, Name, CityID\r\n",
                "        FROM (\r\n",
                "            /* Tabla con la cantidad de productos vendidos por ciudad y producto, ordenada de mayor a menor */\r\n",
                "            SELECT Cities.Cityname, SUM(Sales.Quantity) as quant, products.Name, Cities.CityID,\r\n",
                "                   ROW_NUMBER() OVER (PARTITION BY Cities.Cityname ORDER BY SUM(Sales.Quantity) DESC) as rn\r\n",
                "            FROM products\r\n",
                "            JOIN sales ON Sales.ProductID = Products.ProductID\r\n",
                "            JOIN Customers ON Sales.CustomerID = Customers.CustomerID\r\n",
                "            JOIN Cities ON Customers.CityID = Cities.CityID\r\n",
                "            GROUP BY Cities.Cityname, Cities.CityID, products.Name\r\n",
                "        ) as t\r\n",
                "        WHERE rn = 1\r\n",
                "    ) as r ON r.CityID = Cities.CityID\r\n",
                "    WHERE Cities.CityName = @ciudad -- Filtro por la ciudad proporcionada como parámetro\r\n",
                "    GROUP BY Cities.CityName, r.Name\r\n",
                "    ORDER BY n_pedidos DESC;\r\n",
                "END;\r\n",
                ""
            ],
            "metadata": {
                "azdata_cell_guid": "9d4898f4-a87f-442f-9cba-45205588dfa4",
                "language": "sql"
            },
            "outputs": [
                {
                    "output_type": "display_data",
                    "data": {
                        "text/html": "Commands completed successfully."
                    },
                    "metadata": {}
                },
                {
                    "output_type": "display_data",
                    "data": {
                        "text/html": "Total execution time: 00:00:00.112"
                    },
                    "metadata": {}
                }
            ],
            "execution_count": 10
        },
        {
            "cell_type": "code",
            "source": [
                "EXECUTE CIUDADES_MAS_PEDIDOS_PRODUCTO_MAS_COMPRADO Paris;"
            ],
            "metadata": {
                "azdata_cell_guid": "d6f7e375-d7b0-4c2d-8cb8-60728ab7dbf2",
                "language": "sql"
            },
            "outputs": [
                {
                    "output_type": "display_data",
                    "data": {
                        "text/html": "(1 row affected)"
                    },
                    "metadata": {}
                },
                {
                    "output_type": "display_data",
                    "data": {
                        "text/html": "Total execution time: 00:00:05.948"
                    },
                    "metadata": {}
                },
                {
                    "output_type": "execute_result",
                    "execution_count": 11,
                    "data": {
                        "application/vnd.dataresource+json": {
                            "schema": {
                                "fields": [
                                    {
                                        "name": "CityName"
                                    },
                                    {
                                        "name": "n_pedidos"
                                    },
                                    {
                                        "name": "producto_mas_comprado"
                                    }
                                ]
                            },
                            "data": [
                                {
                                    "CityName": "Paris",
                                    "n_pedidos": "221891",
                                    "producto_mas_comprado": "Classic Vest, M"
                                }
                            ]
                        },
                        "text/html": "<table><tr><th>CityName</th><th>n_pedidos</th><th>producto_mas_comprado</th></tr><tr><td>Paris</td><td>221891</td><td>Classic Vest, M</td></tr></table>"
                    },
                    "metadata": {}
                }
            ],
            "execution_count": 11
        },
        {
            "cell_type": "markdown",
            "source": [
                "  \n",
                "\n",
                "Monitor de tareas \n",
                "\n",
                "![](data:image/png;base64,iVBORw0KGgoAAAANSUhEUgAABlUAAAMNCAYAAAABdfIeAAAAAXNSR0IArs4c6QAAAARnQU1BAACxjwv8YQUAAAAJcEhZcwAAEnQAABJ0Ad5mH3gAAKmmSURBVHhe7N0JYCVVnSj8fwDBFXDUUdyFBLRpZ0ZExESWERtMmhkbBoP6njYuLxH12RmePSPan2+WdnDE53TcMPnGhZl5ztDyQY+PToAWFTERW8RR2/ZJArgiOi6AG3t/derWTW5uknsrS3enu38/OH2r6pw6Vbeqcpf633NOy69+9asdAQAAAAAAQEP7FY8AAAAAAAA0IKgCAAAAAABQwry7/9pvv/2ipaWlmJtux44dEwkAAAAAAGBPN+egSgqk3HvvvfHTn/40tm3bFr/5zW/ioQ99WDzykY+MBx98IH7+81/EAQfsH0996lPjiCOOiEMOOURgBQAAAAAA2OPNOajy4IMP5gGVb3z9G3HQQw/KlrTEQx/60DzteHBHZPXFjh0Pxj333BOHPvrQeP7zn5+vAwAAAAAAsCebc1Dl/vvvj7GxsfjsNZ+NM8/8s3jMYx4T+++/f5Fbcffdd8fI6Ej88pe/iFe+8pXxwAMPFDkAAAAAAAB7pjkHVVKA5KabbootV2+J0057STzmsY+JAx9yYD7GSjX/t7/9bR5U+c2vfx2vfd1rBVUAAAAAAGAn+L//9//G1q1bm96HT40jjjvuuHjmM59ZLNnzXHLJxnje854Xhx/+jGLJzG655da44YYborv7ZcWSxdMwqJLGT6kGS6rS+CiptcpPfvKT6O/vj0c96uB40pOelI+dkk7a7bffHt/73vey/Ntj2bJl8Y53vKPpyfzxj38cw8PD0dnZGYcddlixtLGrrroqfzzttNPyx7n6t3/7t7zLslWrVhVL5iddsKOjo/HsZz87P5mNfOUrX4lvfvOb0d7evmgX7sc+9rF4+MMfHi9/+cuLJdOlMr/3e7+34OdaKx3/H/3oR/Ha1762WLI0pPOagnpV9ftXPV9Vjc7Fddddl7fKqqo/x83ya6X9+qM/+qNS5z3Vm55D/bVdv+/N/l7Sea9qa2uLE044IZ+u3+9ac/kbBAAAAAB2v3/6p3+KP/iDP4gnPOEJxZKZpXv33/jGN+LVr351sWTPk4IlqUFHR3vHrIGVMmUWYv+3v/3tf1VMT5OCKunm64c+9KG49tpr8/SFL3whH1Ml3RzetGlTHhD58Y9vi+9+99ZsZ2+O73//B/Gzn/1n/O53v8tvzp500klNB6r/9a9/HePj4/mN30c96lHF0sZuvvnm/LG1tTV/nIt0czpdQHfddVd+oZXdZpKe83/+53/G0572tHz+sY99bDznOc/JA0vNpDKpbFonScfuU5/61Jz3odbXvva1uO++++JhD3vYRL210g301B3bAQccsKgRyHTc03OpSgGjtK3ly5cXS3a9tA/pvKxYsSLft3RdXXPNNRP7mY735z73uTyQksqk4OBXv/rVWY9/uk5e9rKX5eunMiMjI/k61XP9/e9/Pw9U1ebXn4cUfEp/M+kcPeUpT5nxHFWl7X3605+OX/ziF3HwwQdPubZn2ve0vdpzUCsFVFKQ5/TTT8/LpONQ3fd0jNKy2pSOVdr3FPgBAAAAAPYcN954Y36PL92jfOQjHzlrSlIvVKnsnurRj350POqRj8qDJukxzdfa2QGVZGozlBk84hGPyG/CphuyKVCSbj5Xf8meWqD8+te/yoMMt912W37jN42jkgapX8qD06eWNOnmckopmLOnS61Q0g35maTWJKlFzr4gtRKpDRxVW2ZUj02KwqZzXi2TyqdjN9s1UNtSJF3zad0U8Kiq1p+k/FRX+luoSkGmX/7yl6Va86S/ndQKJQVN0nbqpX1M9dfue2qhlAJJ9dKyVLa21UwKsKRrYTYpeJqi2QAAAAAAS1kKlqSgSQqepCBK1a4IqCSztlRJrVRSC4cUIDnooIPym8kHHnhgPOMZz8h26PD8l/df//rX4ze/+c2s3Xulm8PzbalSbcWRWmKk9J3vfGdKK4hqS5VULv0Kf6Yys0ktB57//OfnwYZ0M3mmdVKLlHSTu7r9hzzkIXHFFVfkgaV0LNKy6i//U6uA9Cv/W2+9NW+ZUB/pS10/pfVSV2rVlin/8R//EV/+8pfz/PTcU33pOHzpS1+atj+p/toWErXSeqlFQwoU1be4SDfX0039xz/+8fn2awMOKS/ta/X5pdZHtS0jqvucAgOpP77a55uk9astU9KxSttP10Qql6ar2yq7nWqZ+uewUKnOaguR1Ide2v/a45iCIKmrrdp9mk2z1lEpeJOCGdX6UzCyei5r92Mm6Tmn6yblz7Sd1Cqm/hxu27Ztyvaqbrnllvyxdv107aWu52aKQqfzqJUKAAAAAOyZ0r3mdG+92hplNtX78HtyS5Wq+hYrv/zlHbskoJLM2lIlBUrSL9tTl0OpT7YUAEjNiIaGhmLjxo15QOVZz3pWvvMpALOY0s3pNMZK+tV++pV/Smk76QZ8reov76tlUpAk3eBvJN3kT7/wTy0L0g3qdEO9vpVHtY5qvelX/o95zGPy6XQTO12gabp+/IzqfG19aTpto75sauWQxq9I0mOqL90Er9+f6v7Wr18r3ZBP+1Xf4iIdnyOOOKKYm5Ruoqcb7NXnl1IKvqTARq1UJgXFUn46Bml+JqkLrJSf9jOVrY7dMpftVI9BtRXUYqgex2ogIh3b+oBNumZSsKKMtO/pOM8knacUhGx0nhYiXS8pmFd9Tml7yWzbq39Od955ZzE1XQosVruzAwAAAIC9xcc//vE5JfYstS1WdlVAJZkxqJKCJKm1QWoBkm64vvzsl0dvT2+c+4ZzY/WrV+c36rds2ZK3gEgtC9Kv3BdTunGcAhe1v8pPXTHVBxzSDe7aLphS65N04zm1XplNyq/9ZX+aTs+1KtWfytQO6p5uXJe92V9fX5qub0kwm5m6kKrf39mkY5XOVVU6BmndmW66p3IpYFUrtVKo7x4qnYPq867WU3v8m5nPdhZLtTutFOxZDCnQlgIwtcczbSO1IkopPaeXv/zlRc7OkQJP6Tml7aVA1GzbS8G5dO6rgZckRatnksqka672bw0AAAAA9gavec1r5pSgjBmDKqmroHSzNY2LctKJJ8URR7TGr3/zm/jFL3+ZNyF67jHHxgtf+MK8+6EnP/nJeZdg9dLA6Km7sPlIv/h/3OMeV8xNSjd/f/WrXxVzMS2YU70x3+hX+enmd223SOkX+rU3+VNAo2wQZCb19aXpubQCSNuuX792f2eTborXjrFRHT+kXjXgVH8TvTpfG5CqH4sl1V97/BtZyHbqpYBGNXiRUm2wYCYp8JNaOqWAymwtOeai2kKqNtCWpOut2gInPa8y+zZfqd70nKrbSwGWtL2Zglxpv1J+CrxUj9lsXXul62sh1zsAAAAAwO5QO4ZKtcVK7RgrO8uMQZU0NkYaw+GhBz00li9/dn7TO82nsR7SGCpPfOIT4zl/dEz8/Oc/zwMdqWusWmlciNQvW0rNxlOptVitFQ455JBiaqrqDe90c7p6szn98j9ZrJvh6eZ6Cj6km90ppen6wEIjKQiQWuSkoEPap3R8yx6X1IKoGpBJj3vLwOMpmFENJqTUKFCSuhxL53SmcjMFhVIAb7aWVukcpGskHdf6gEq9dI5TEKc6HspiS/XWtvpJ10Ta3mwth2oDPikl6VqqlZ7fbK2ZAAAAAACWqvpB6Wu7AtvZgZUZgyr33ntvfmM/Dc6eAhQpMHLP3XfH3b/7Xdx3//35wPUpkHLffffn+UcddVQcd9xxE+nEE0+Ml7zkJfl0maBKalmSbnhXpSBObRdYVekGcO2YGPXjRlRvMM8WhEiBhup4KLWptnVI2nYaO2MhUn2p26+5dP1VK62Txkcp2/VXVbo5ntZJLTtmC8ZUl9XfjG927OZqV22nVgpCpfNYDSLUS+PypONTqxoYnEl1XJ+9Iegw07X4wx/+cNbnDgAAAACwFNUHVKp2VWBl1jFVUhdgKSCSBqxPXXmlLsCOeuYz47GPeWy+/L777o1f//pXeXDlpS99abzzne+cSOmmdgqoVAMyzaQb7bU3fNOv/tN4HLU35NPg5ukGcG2rj3SDvLaFSRo3IgVNZlL9Vf5MXWml7rlSXipTvYFeO5h62kbKS1KrhhRwaiR1XZYCMyk16rqrGlio764s7U+62Z8CBHO9oZ+OY3oujVrHpGNUbaFT1ejYlZGCXfXHZWdsp5F0vGYamL+q2jVb9Vym81o7uHw659WuvqqthGY7junaTK1iaqXuthptv1bah9QKpvb6bSSd1/pxUdL2qn83tfteL+1nuhbrr6V0ndS3MgMAAAAA9iz7779/3H777aVSKrsnmy2gUrUrAiv7v/3tb/+rYnpCGgsl3cBNwZXHP/7381/4p7FTDj/88Lxrr9RC5NZbb4nvfOc7+Y3aNGB9Gn8lBVBqUzPpJvDWrVvzQEUaiL4qbSMtSzfkv/a1r+UptZqp7YIpdYd08MEH5zeGq+V+//d/P170ohcVJaZKZVKA6AUveEGxZFLaXnou999/f37jffny5XHDDTfk+5bq/fWvfz2xXiqzffv2fHmaTje10/RTnvKUvJ4kPabxZlKrl9ob2ame1AIlBRWqLW5++tOfTtSXuktL0vrp+Kfn02w8lfptP+IRj4jbbrstTj755Hw+SV23pXNWDRCk55j25ZprrsnXT+npT3/6lEH/0/6noEJtsKt2WdpGulGfjlVSPYbpmKVWEWlb893OfKVjloIm1W1VUzrG6TimfUznbGRkZGL5q171qmLtyjWVgizpOd1yyy0z1pVSOk+prtrnlVKjMVxSfu15ql4L6W+n/rlXuxCrPffpWKbjXbvN2u3V7nuSAjbVcslZZ52VP9ZK13i6xhbj2AMAAAAAu0fqWerGG2+Mm266Kb/nOFtKvUOlxhDVe5R7oi1bPhPHP//4GQMqVSme8ahHPir/Qfvy5UcXSxdPy69+9atp0Y/USuWLX/xifkM2BVhOO/W0eMITDsujWKlVxbZt34xrv3BtHhxIN+9Ti4syQRTKSzfFU9dTjVqcAAAAAAAAu86MQZUk/So+RbdSN0dpwPrU6iK1XEmD2N99z9154OWUU07Jf+WeImEsntRdU2ol8fKXv7xYAgAAAAAA7G6zBlVSACV1rfXtb387D65k5fIuvlJwJXVjlLodSl0SpdYrWqksjtQcKY2Tkcw22DoAAAAAALB7zBpUqUotUlKApV51DBUAAAAAAIB9QdOgCgAAAAAAABH7FY8AAAAAAAA0IKgCAAAAAABQgqAKAAAAAABACYIqAAAAAAAAJQiqAAAAAAAAlCCoAgAAAAAAUIKgCgAAAAAAQAmCKgAAAAAAACW03HHHHTuKaWCJ23LNdbHilBOKOQAAAAAAdqWWz311bEdLMTOhZeqSafm1GpWty6s3LbemfOM1M43KNthus7Kzr5lpVnae2519rUKj7TbYZtKobOM1p2ppsp1azcouZl21GpXdWdtMdsV2D3vkg/ljNajyyEc+Mp8HAAAAAGDX0f0X7GEEVAAAAAAAdg8tVRrtf71mZee53dnXKjTaboNtJo3KNl5zqsVs6bGYddVqVHZnbTPZFdutbamy6k9fkk8DAAAAALBraakCe6kHH3ww7r7n3vjZnb+Je++7P3bsMHwSO1+6zh544IG4//7747777puWUl66NgEAAABgT6SlSqP9r9es7Dy3O/tahUbbbbDNpFHZxmtOtZgtPRazrlqNyu6sbSa7YrvzaamSblzfdNsd8dZ//mqs6XxWHHvEY+KQRxwU++0nlsriS9fbb+97MMbuvC+++NP74ms/uy9++rupwZPDDz4gjn3cQ+L5j31ItB5yQH4tzvXvDQAAAAB2p/3P6X3LX027pVV3k6vhLa9GZZvcLJuWW1O+8ZqZRmUbbLdZ2dnXzDQrO8/tzr5WodF2G2wzaVS28ZpTLVZwIFnMumo1Kruztpnsiu0+6sBKK5Nbbv1+HHXkEfn0bFJLgXSDO6Uf/OK38a7Lvhm333l3HLDffvHoRxwUj3roAUVJkmqrifSYjt1C0r6o+txv+dX98X++97v4/757T3z5p/fFd+54IH702wfjp3dPpp/87sH4/q8fiO9m6b4Hd8TjDmqJg/ab+98cAAAAAOwuLZ/76ud3DL355LjwS8WSwtmD43HusZXphre78pth18dHnvNf4l/jxPiLzR+P059YyarkzW5abk35xmtmGpVtsN1mZWdfM9Os7Dy3O/tahUbbbbDNpFHZxmtOtVjBgWQx66rVqOzO2mayK7Zb21LlpX9yWj5d74EHH4z77n8gbv7Jr+OHP/9N/PxX98S3f3RH/P2/fysOesh+8YIjHxenP+fJ8eI/eGI880mHaLFSSAGB1CXVzTffHD/4wQ/i7rvvLnLKecQjHhFHHnlkPP7xj8+P6b52XNPx+96v7o8tP7onLvvu3fF/77g/nvSIA+LIQw+Ixz9s/9i/uK5TECWVu+Wu++O39z8Yf/h7B8Qrj3hYPO/3D4zHZeXm+ncHAAAAALtDy1tfEDvemwIqr/6X+Pya52cTX46Lnvtf45JsqhpYaXirK78RtthBlevjoj98RXwym3rlR2+NNxbBnSlq6p69numalZ19zUyzsvPc7uxrFRptt8E2k0ZlG6851WIFB5LFrKtWo7I7a5vJrthus6DK/Q88GL/89T1x04/viKGv3RbXj/1nfOdHd8VP75oaIDj6yYfGq044PNasfJaul2qkoMrQ0FAMDw/Hd7/73YnWK82kY3j00UdHd3d3PPe5z82P5752TH91z32x6Xv3xKW33h3f+MX9+bL/2vbIOOuIR8QfPOYhceD+lePxu/sfjGtvuzsuGf9tbPnh7/JlJz7+wHj1kQ+L9uzxYQ/ZP18GAAAAAEvZfj/IW6i8MNZ2p4BK8vw4850n5lOXfGJj/CSfApaKandLtemO39wT126/PVZ/aDT6h74d1337p9MCKsmP7/hdfPXWX0ys16zLq+E3HhgHHliX3jg8Y9lGafz9JxbrvzGGZ8iffxqP9594YLxxeKa88ikFQp73vOdFe3t7HHTQQcXRaiwFVB72sIdFV1dXtLW1FUtnPj8zHcfqPlfyJo9Lmj/x/eNT1l+qKV0/N9/1QHz+x/dOBFSSVx75iDj297PnVQRUkocdsF+85KkPjxc/5aHFkogv/OTeGM3Sj35TGbx+pm3k184s19xcj9WedGwlSZIkSZIkSZIkSZKkpZmKfmq+GNd++UeVyczjV30sPn/jeHz+g93x+GJZ/HhjrD2mNU6qSR+5ocibyW0b461/dHicWJMuqi3/40vif2TLTqhJ/+PytA8/iivOrbRSST75umfEh2fYzu2XrY4X/sHT89RRpPMum3wOk66PDz37adFRpPZq+l/XF/mprldF+/Kn5ukFReq77IdFbmbruyrLj37KlPSBrVnebf8Wa7Lp41Na9uQ85cthF/ndvffFZ75xW6y//Jtx+x2/i/seeDCWP+XQeO0ft8abX/LMolTky/57Nv/X3X+YBxFKt1R5/b/HPffcU6R/j9f/40vjpA/cXGSWcPMH4rVvjXjv9rT+h6LcMPu73qMf/eh4znOeE3/8x39cLGkslT/jjDPyrr9SF2DNHP/e7TXH8Z74UHEgXvKhJsflyjfFQSd9IOZwxHeZ9CbyxZ/cF9/79QPFkqm2/vSeeNv1v8jTD38zc5lv/uL++I+f31e6dRAAAAAA7E77veGKd8Vx2cTWvz05Tn5uWyVtmAw45FJAZeXbY2vevdd4XHvjtfEX7RH/2jNLYCUFVFaeXyk/fEt84T+uq5R/fRFY+fEl8dbOlB/xin+8Ja77j0/GK7LprX/1wvjwDU+K0y/613hlqiczY/dfN/xdnPVX12YTPfH+b3w3Rr7xb3n5L//V2+P/3JaXmNk5l8ToNy+J/5KmP3F2fOgr2ePWd8WZ70x19cYHt30/vrStkv/ld54fn0513fZv0ffagWzipDh/yw/iSx/vzaYLP/i3WLNibXw5y3t7lnf99uvj7R0R//scgRV2jXQj+oabfx5XfeO2uOm2u+Le+x+MVcc+Jd502lF5UOXkoyth0Rctf0K8/kVt8WfPf2oc/vhH5QGV2pYB5b0kznvv8XH9pUNzvMm/PNoaj6+/W6Xg0kMe8pB46lOfGi94wQviWc96Vjz0oZMtKuodeuih8exnPztOPPHE+L3f+7183X2t268kXTtf+/l9cftvpwZEPvDNu+Jt1/8y3p89bvnh3Xm6696ZgyZjdz0Q41naF48fAAAAAHue/eKw7njPV8fi8ykNvL6y9J/+a5x8TGv8xaZKy4+ffPnKPAAS7S+JYw9LE0+KY19c6SLsX6+rC8Bkbv/ycFG+c7L8isnyt19fzb8gzswDJsfHG//jlrju67OMn1Lv2LfHF6/8+zguBuMteSuVl0+0bJndSfG2VxyfPR4ff/bXJ+VL/vcXsn0/7h0xevV74vkxEG/OW6mcHf87z624/frN8eU08Zo3xp+msWKOO6USlMmMX3VFJa/j9HhePo7Mk+N5L6nWPZo/wmKrBkKqwZCvjP88vjz+szhg/5Z8zJSz258ef/LcJ8dzD39MPPOJB0fnc56Uj6OSlrUddnC+Xgqo3PHre+Luex+YUl99irSJ9FC7PG306LY4vGbZ+AdOyrvNqqST4gPjNcuXvTWuj3+Ml6a8N16ZLR+PD5x0ULzxyivjjXn5N8aVTerJ05VvnDEvydbM65xxvTmk1OLkiCOOiBe96EVx2GGH5d101UvBllSmo6MjnvSkJ+VlZuu6qpoqB23mvCvfeFCc9IHJLqlqy6a8g176jxHXvzWWpeeWH79K3uzHavbju9gp+envHozf3F+Zrhr+/u/iX276dXzj5/fG0x95QLz4SQ+Lgw+cOWhyx73ZtVgEXGbaRnE4ZsyrPVbV1Ogaqi9fPfZT1jnpAzFe5EuSJEmSJEmSJEmSJElSfSq6/yoc+5eV4MpgJbiy9W/+Ob6WTxVG3x7dRddf3X/zhcqy8e/PPu7K6PnR/UeVrr+6/7ooP/a9+HFlKqLtafGEYnJOfnxJnPeSv4ytcVL85ZWTLVUiro3vz9QDWJ0nPOWoysTYd+P22/4t/vzUv8hbm5x/9WRLlbyumh7AGhpZG2cU3X+d8f+kVi+Z79Q8T9iJfvCL38T3f/abOPThB8ZLn/eUOK7tcfGYR1VaWTzhkIfFO85YHn967FPiSY95RDzw4IPxq7vvj2/94I64dvtP4oc//83cWgjc/MF4XerK67zJwfJv/uDJcfSlZ8W37r477k7p34+Otx79prgqyzvizZ+Pu7/13jg+Xhf/nvI+NLnety74dDzrW2mdD0Va2qietN2TX/qteG9ePuWdlZZO+OhLX5f9U8n799ddH2993Qfn3F1WOg7pRfFRj3pUnHTSSfGHf/iHeSuU2uOTWvg88YlPzAelP+aYY3Z664rTPpSea/bcjn9v5bgUx6/hsSrUH9/dofWQh8Trlz0q/v4Fj44nP+KAvLXKbC1WFkOZ41Lv+rcenV2dH62Uvzu7xuKtcfSbGq0BAAAAwL5svz9O3X29uW5A+icdnncJNs2r/yWuvTF1/1WTPlQz7kq91Z+ML/xH6v6rJn347MgbryRj34vbi8m5uP36oUpLl3POjT/JW4jMze0/+E5lou3pETUtUeZTV+41G+P6b6Xuv344mf7fV0w+T9iJ7rnvgbj3vgfjUQ89IE581u9nj5NdUT38oAPiuYc/Nh6RLUt+d++Dcf1NP40z/9fn41Uf+mJ87lu354GEhj760rx1Rp7y2MXn480TXXldFe9LQZaPvjkmFp12Xrz3+I/Gp5vdlz7rvDnWc/RkF2Knvblm3RRz+OjE/GnnvTeOv/7bMV6ZnZN03A444IB45CMfGZ2dnXk3YLWtVVJLhjSYfUrV7sHKBlbSzfuJ4/jQxjf6Gyt5zKcc392j7eCHROdTH1bMpTFW7o2tP7m3mJuD2muwJr30o0V+bp7X4uv+PT4/caCOiDd/NLt+PnpBfHApDmIDAAAAwG6339np3y+9I87uz0MLmR/F5nel8VMyrz45npM9PH5VTz7mSeoWrDqGytc2FAPW/8P07r+ecEZvpfzFr5wYnP5r/1AMWJ+Vf8LxnZWgzej5cVmef318OA1W/4czD0pfb6KlySc+GzdmD7dfdlGJ7r+ujc9dn5qeXB//3/+stCb5LyceH094cjGQ98erdX14SvdfTzh+ZTw/TXz8w/kYK7f/fx+ayG99/ZsqrVo+3j0xhsqN760MVn/8e3X/xc7XLCCSbvjX3vT/7b33x4/v+N3EgPalvO7fi1/x/3u87vq3xvtqb1Bf9en4aPY39daja292Hx1vnf6yMM3RtYOsNKvniM446/iPxkuz5TM1IphSV+5bMTbPm+LVY/q4xz0uXvjCF+aD11elQez/6I/+KB9TZa6Of++3iuOY0gJaj5Q85tOPye615ou/iL/+yi/jyz+9p1gyBxPX4NSUGvFMmOe1ePyzWoupwhFtcXQxCQAAAAD19nvDVz8fa1+QTaVxVPKB6k+OC1M84NX/Ep/vS2OQJMfHGzb/XR4ISYPTp2BK3z9lM6nlyp9Xy9Q6Ps7dfEGl/OsrwZQ1F2czqeVKKn/Y2fHe4cn8E/7olfGv2fRxf/XFYkyV4+P41ekx4pOve0acd3ldn17Hvj3ef06aqIyp8mf5oPXNffl/dkT7sytjpjz/r0fiTc/LJo57R3zwNSm3MqbKGfmg9TWe+PLY8LE0OP21ccGKp9TlvyD++5YL86DL/35NpfuvN34sm3ntxrj+re15CdhZ6gMq9z+4I37+63uyxwfzMT7qAyrJb+6+L3521z35gPbNGqhMd1p86N9fFx99aX0ri6Jrr7pU09NXSY3qOSLe/Pls/lvvjW+9NN0sX0hLj3JSq5SjjjoqWlsnb7qngMpTnvKUvDVL2RYqO8diHfOFe8aj9o9DD5r5WGz96T35gPUpff6238Wtv7p/Wvdfhz18vzw1bTFVytI5LgAAAADsnfZLg8iv/GAxUH013TheE1ApHNYdF9Z3/VUbdPnazXHt1z4ep1e70Hpid7y3vuuv2gDMYWfH/8qWXVeT/tcZTyoyI44579b44tcr6X01y6uOOe+78cVvVNJITcoDJTPqiQ9+83sxWqR/OPPJxfKsrv/x/RjdVklfqklvrvaBdtw7Ksu+9YMsbSzGXDkpnpaqeOLLoz91/VXb/ZeACjtRuvlcewP69x55UJ7u+t19cc03b4+f3XV3PPDg1MGTUpDl3vvvz8de+fLNP8vXe8KhD4tHPvSAfLq27JRUyZ2cP/XP48LjPxoXVAdWP+KZ2V//t+KmJgPD57XULqssmJwvWc+Ow98Un/vdtqn7UF9XliqLpi6bT3r0ox89pVVKar2SBrNPZio/a6qsMH15SvV508rmCybnyxyraXXsnJQCS8c+9iHxpIfvn7Y4TdqPrFglVRZNc9QhB8RRBze6DvOcGZZnqbJSZXo+xyWbvf7bY5PzKV2ZWrwcHa2H1yyTJEmSJEmSJEmSJEmSpCJNHaiepia7/3pmPHm+Y7DAAtT/ES970iFx9JMPiV/+5t645Evfjetv+s/43s9+E7/+3X15MCWlO397X4zf/qv4/Ld+Elu+fltezwvaHhtPeewjptVXm/K7zulhYtnh8aa3vTauX/v6+EC6eX34m+Jtr70+1i5/U1w1UWY8PvCmD8T4xPxEJRPzlSU1883quepN8aarqsuzlK2/rO3wien070RelpLa+fmkah2zqS/fKFV2slzetLJpQRojpjpf5pinKtJ/E/l1afwD8ccP++PKOZxteqb1ZkjPf9xD4shDDoiHHzC9tcrzf/+gfJD66kD19Q45sCWe85iHxLMO3X/GuispK5gOy7TlaWHKK+ZLHJcp5avzH11Vc21dFW9a9dE4/j19cWpNOUmSJEmSJEmSJEmSJEmqJkGVZra+K16w/KmVdHS1+6+T4vwt6+KYSgnYbVJLgRc+8/ej46jfjwcf3BG/ufv++H82fj0+eOX/jW/+4I6JLsBGvvPT+OtLvxGD14zF7+59IF/3T499Shz1xIPz6Tk59c/jPcdfH3/x3z4YadiSUz/429j02o/Fqoc/PB6ep2fHZc/snBwsvKSG9RzxzNi+qmb5md+MD56ar7b3y493cVzefHVl0SId88VwxMH7x/GPOyBvcTJXJz7+wHjB7z8knvjw/RalO7X5HJfj37MpnvnuavlV8bHXborP7u4R/gEAAABYslo+99WxHdNuZdXd3Gp4q6tR2SY3yabl1pRvvGamUdkG221WdvY1M83KznO7s69VaLTdBttMGpVtvOZUc7nh2azsYtZVq1HZnbXNZFds97BHVsah2HLNddH1khfl01X3Z1k33vqL+Ocv3Bwf+9x4PGT//eLQRxwYv/fIA+MRB1VudKeWKmm8ldR65bEHPzRe+8et8V9e+Ix48u89LPbfb/rYK1Sk43LllVfGBz/4wXz+H/7hH6aMsULFnfdFfOmn98enbv1dXHf7vcXSiN976H4TLVTGskK/uz81DUktVPaLEx//kHh128Oi7eD94hEPWawxVebm6v/+iPj7Z34jrnmTIAoAAAAA5WipAnu4A7K/4qMOe1QeJHlL5zPjD5726Lj3/gfiO7fdlQdbUrr5J7+KA/ffL05c9vh442lHxdntT4/DDn1YHJAtE1BhoQ49sCWOfcx+8erWh8Zrj3xYPO9xD8kHr//F3Q/GN35+b55SQCUNSH/SYQfmZV5VBFRSt2G7I6ACAAAAAPOhpUqj/a/XrOw8tzv7WoVG222wzaRR2cZrTrVYLS6SxayrVqOyO2ubya7Ybm1Llc7T/jifrko3pNO6996/I77/s1/H6E0/i20/uCN+fMdv4+77Kus9/MAD4hm//8h4ztMfHc89/DF5CxWa22+//eJb3/pWfO5zn8vnu7u747GPfWw+zVT5NZhdbj/6zQPxzTseiPG77o9f3jM1WPKEh+0Xzzz0gFiWpSc8tLKsev3uDle/5ZHx7qO+EZ990+HFEgAAAABorOVvLtjgJ8KwxL3l3HPyxxRUecmpJ+fT9WpvTN/5u/vygevv+M19+Xzq8uuxjzwwHnbg/vnA9ZSTgir1N/zT8dOyYma1xyodu3rp2KUyrkEAAAAA9lQtO9wdhCXtb9/dXyqoAgAAAADAzrVTgip33nlnMbV3OOSQQ4op2PXqgyqnrTgpnwYAAAAAYNfa/68yxfSiueeee4qpvcNDH1p0/g+7wRe++OV4/vP+KJ++5dbvx+HPeGo+DQAAAADArjXRUuWuu+7KF8zXwQcfXExpqQKLqb6lyopTTsinZxqzAgAAAACAnWdKUOWMM87IF87V5ZdfLqgCO8lsQRUAAAAAAHatXfZT91suOjUOPfTQ6NtSLJiwJfoOPTUuuqV+upGy5ZK5lAUAAAAAAJjZtKBKanUyl1TOLXFVVvScc46LT2yeFlUBAAAAAABY8ubUUiV1D1ZNc3LLVXF5nBFvecsZcdwnNoewCgAAAAAAsKeZNahSG0CZcxClzpb3n59VeFocfvhpccZxn4gLF70vrlvior5K92Ipndp3UbZkqu9c1RenFvmHntoXW2oK3LKlJu/QU2foogwAAAAAANjX7YIxVbbE5k8cF2ecdng2fXicu/ac2Hr5VdOCHguxpe+YOD/Wxo133BF33HFjNnV+HDMlMrI1PnH5UbH2xkr+p87YHi97QzXwsiXe/7Io8u6IGy9YFp+4cHpQBgAAAAAA2LfNKagy97FUMls2xyeOOyPymEqyYmWcs/XyuGrRohaVoM0Fb1kRlU0cHiveckFdN2NZ/kfOjRV5gSz/3LV1+/CJuPCqLXFLNn/4uRvijqvPLeoCAAAAAACo2OljqmzZ/ImIrefHMRPda70sPhFb4/z3L1IfW7eMx/ZYFq21UZDDW7Ml22O8VOBmRWy48VOx7PIL45hjiu6/Fr17MgAAAAAAYE83a1CltlXKnFqmTFG0Iim61ppInzonYi4D1t9yUZx6aN9k+dpAykwBlJkCLY0cviI2XH11pfuvT2W1nf+GEFcBAAAAAABq7dQxVW656MKpXX9VpS7AUpdbZSMXeeDkE7G5GF3+lqsuj63HHRVH5HMrYuU5lZYvRW4+MP7Wc1ZmOVVb4/LUvVc+neX3vWxyv1LA5tT6MVTmEJABAAAAAAD2CTtxTJVb4qrLt8ZxZ5w2w/gkK+ItFxw3hwHrUxddF0RceEzehdgxly/Lx0ip1rtiw41xQVxYdDF2TDZ1Qdy4YTKkkkvde9XmV8dNOfzc+MgZ34k3FN2THfOy7bHsUxtqAjIAAAAAAAARLTsyaeKuu+6a01gptVKQ5eCDDy7mIu68885iau9wyCGHFFOw6/3tu/vjLeeek09vuea6WHHKCfk0AAAAAAC71pSgykIIqsDOIagCAAAAALA0THT/lYIiC0kAAAAAAAB7s506UD0AAAAAAMDeYqL7L2Bp0v0XAAAAAMDSoKUKAAAAAABACYIqAAAAAAAAJQiqAAAAAAAAlCCoAgAAAAAAUIKgCgAAAAAAQAmCKgAAAAAAACUIqgAAAAAAAJQgqAIAAAAAAFCCoAoAAAAAAEAJgioAAAAAAAAlCKrAPuSWi06NQw89NPq2FAuWqi192X72Rbnd3BJ983xOi3I8brkoTj301LjolmJ+NmXLAQAAAABLlqAK7DNuiasu35pPfWLzro6q3BIXnXponLqkIgrzPR51z+Xwc+PqO66Ocw+vzM5qSrmleDwAAAAAgGYEVWBfcctVcfnWc+JTn7ogjvvE5pKtQJaSW+KWLVtiy5bssViyIHv88QAAAAAAdjVBFdhH3HLV5bH1nJWxYsVpccZxn4gL61tJ3LIl+k49NO8O69BDT82mU9dYNV1wZfkXZctOPbUv+voqj1smqii64Lpoah3VTWzpOybO3xqx9fxj4tD59LW1pS9OPfSYeMOFm2Pz5jfEMWn/6vd/vGbb2b41awQyt+NxaJzad1EezJn2XGq69drSl5Wte34Ty6aUm1pHw/XqpgEAAACA3UdQBfYJW+L952+Nc1auyKYPj9POOC62Xn5VTYuPLdF3zMti+xk3xh133JGlj8TKZZWusSoq+d9Ze3VcffWG2LAhe1wb8bJjpo578onLN8fKj6T174gbL4g4/w2VQMSKDTfGBcdFHHdBVv+GtA9zkIIRL/tELPvUHRPbvuNTy+IT579hSuBkyrbPyLZ9TKPxS8oej0/FjfnxuDHOiPPjmL4tDZ/LirekVi8XTm432/cLP3FcXPCWunJ1dTRbb8WGbB/metwAAAAAgEUnqAL7gi2b4xNxTuQxhMzhp50Rx209P95fjYgU+WsnBgY5PFasPKeYztStn1vxlrjguE9E7XAk56zdECuKKg5vXRax9Ttxc2V2/m7+Tmydcdtb4/KrJsMgU7Z97vT8KUofjxXZkUgOj3PLBDYOT61eJrebt4Y57ow4rXpYZzPf9QAAAACAXUpQBfYBWzZ/Ivv3E/GyoiurQ485P1I7lOoA7beMb4847qg4Ip+bLs+vXT9PlS6sto/PErhYJM32bT4WejxmV9vqpTIQ/nFnnFYEZhqZ73oAAAAAwK4kqAJ7vS2RYgjnfKrSNdZE+tQ5KYqQd9/VrFVJnh/nxKdq1y/S1ROtW+av0ZghC2nxsqx1pn1b+PFo5PBz18Y5Wy+Pq7ZUBsKfbP3T2HzXAwAAAAB2HUEV2MvdctGFU7q6mrBiZba0GKC9djpJg7RfmFpzFCbyt0yMO3LLlsmB1xcq72osBTTyum6ptCRJg8in2SOOiuOybdd2MxZb3h/nbz0uzqjpHyu1MpnYt4vekOXP8Jwzczse1TpviYtKDxa/IlaeszXOf9n5lYHwi6XNVda7/MJiAP1iKQAAAACwdAiqwF6t6ErqgrfMcJM+3cSPosupFbHhxgti2eXHVLrDesPmOOqMmjFV8vxPxRnfuTCOKbrMOubCy2PZpz4S5RpUFN1bnZ/Vf2pl8PopVmyIT52zPV52TKr7mHjZ9nPiU9XxSw4/N67+1Dmx/WWHxqmn9kVf36lx6Mu2xzkXTN32cds3xxuq+3b5srjgxg0zPOe5HI9PZcfjZcXzPSYujwvixnyfmjyXTHU8mspA+DOZuY603tat1QH0JzVqyQMAAAAA7DotOzLFNLAE/e27++Mt51Zu0m+55rpYccoJ+fTOdstFp8Yx5y+LT90xU3Bid7glbtlyc9wcR8QRKw7fO8cbueWiOPWY78TaJXPMAQAAAIBaWqoAlZv5h54afZX+t7L5LXmLjokuuJaEw+PwFStixd4aUIlb4qI3nB8xYysaAAAAAGApEFQB8i62PvKpZbH9ZUX3X8e8LC5f9qmiuyt2ui19lS7Gll0QHzFAPQAAAAAsWbr/giVud3X/BQAAAADAVFqqAAAAAAAAlCCoAnuZ1JoFAAAAAIDFJ6gCAAAAAABQgqAKAAAAAABACQaqhyVurgPVpzJnnXl6MTd/t912WzzxiU8s5thXuQ6WJueF3cn1x57ONUziOmBf4DpnX+S63/M5h9TblddEs21detkV+b1ZLVUAAAAAAABKEFQBAAAAAAAoQVAFAAAAAACgBEEVYI6Go7elJVp6h4v5GsO90dLSm5Vg71dcBzOmxboGKtuY6VLLjfdHR0tH9I8X83O1116v49lT66g5Hx3RkR3E+R4mKK/J3+xONftrUkdv/y64/sejP/u766jb7rA/vD3MvnwNM6k4F7vts65rgV1nPLumOzpcY+wr9pTX1yafRxb6PXiPt5Dvu02O7XzM5bOBexg7ze54PxNUAeZnsGs33XRYuL/+678uplionqEdsWNHfRqIziKfXW08+jvaomtbd4xVz8fYuuje1hVtE3+wqUz2IaP0J7m5loedodx1OO01aWwou/77aq7/nSF9OWuLjbEuLp7Y9lg2tzG62ubypcnf2t5tKV/DzGinfdZ1LbA0jPd3RFvXtuheN1ZcZ5X3rrbSN+y8b7Fn8vq6J0uvO82+77KvWfj72fwIqgDz0t7enn3X3PMi5AIq7N3GYvto9kVh3ZpoLZZEa2esuXhDtA+u34d/zcQ+K13/63oiBjftpPer9MWuKwZ7hmJkoHPy7y6b6hwYiaGe0ehbvTN/JTUe48PDMTycPRZL2Mvs9GuY2Sy5z7quBRbVcFzYNxo9QyOxprP67pXeu9ZFTwzGpt16kXlvYxfz+roH8X2Xervv/UxQBZiX5evSzaLB6Grwa4D65nctHb2Tb3LVZo/9WZlq87wsM1+nZn7C+HD0d3Rk9fVGb+piJXucb7cqJ598clx77bXFHDtP0bS2P3ucuA6m/mq74TVSdVPN+jPlVzW7RrL82v3o3bStyNibtMWy9vR9oK75c+uaGNmRfcjIPmMM97ZF9pkjRvvaJro2aXQeppcvzmvtn362fm0z5PGav+v8WM960tjXNPubn+3amem6nZ9m12+R3+B1a4rxzbExfbFbNXP7vM612Re80Y2xOV+/8bZnfI5TXrey98XaZuzpWLa0xer1m2LTptXRVvu3thvfY/d2e901zKzKfNad/W+n8gv+2nM93JvNd/RHv2uBpWB4UwxGT0x/++qMgR07YqBYPrfPiJm5fh7PytZ+hkzX8KzvbcXfVXovrNSRtpE91v0d5X9rC/rbgoW+vjbLb/y3NWGxvgfvVZp/381Nea2p+wyd1B7b+vfGub6OTbmvkOVly2e/duosaFvkSr6f7QyCKsC8dQ4MRc9g18xNvsf7Y3XXYPaFtNr8bkeMdUfdL3ZHo2/7qkp3KUM9+Qfy1Ztq5y+c/NDS1hXbsy+3IyMDMTCQPa6L6Gqb5Y1pFlqpLL7BruobfE2q+xIzuHFTrLq4uAY21FwDpa6RuvVT/ozd6TS7Rir527qr27o4VmXX396nNf+VTk9q/lx88EofIIfHJw9Y58BYbMg+iLZvyI5F+oTR5DxMK99M9qGxrS+ie6xS146h7tjWt3r2LwHsO5r9zTe4duZ8HValLyrrB1PUY07dEs76ulVvbHv2SjLTh/hC65GxPCuxfayYb2D6c6y+bg0V3RuMRXcUXVOkoEk6lkM7Jl7zdgwtj8Epf2u79j12n7A3XsM01PCzbsO/ncr7cXu1C7Hs2ugabI8NF6+JNa4FloDxm7ZlF+GyaCvmZzTnz4jz+Dy+vObzeKn3tuzdLdv1yjWdlUk/Xqj9dXpWx/r0t7Z2Ln8l7PN20uvrrPnNPk8Upqyf8uf1PXhv0/z77uRrzQyfoQuzn7t5vI7N+77CrtzW3qvU+9lOIqgCLEBnDOQ3Zma4YZp+KTA2FLF+9cQvNtv6sg8qo9tj8t5S5QNv/mOCtmXZXHt0T5nfFjelemeKPHeuzT7Ez70pX2qlUqW1ysLNOKZK3Q2CnnUDUW2F2Xrk8slroNQ1Urf+mnTeR2Nj5Wffk5pdI0X+uomfrrRG56qeYnovkx3XgZHsPIyNxdBQdyzflsZ1aMt/HVv/Z5oreR7mZjA7R8OVD7eddb8aYt9V6lpb2LUzLdDbtj62py9Uc7lxmZn1dWtXmnjdqnYrln2JHCheY2cK5uSvebWvj7v+PXav5xreBzX4rNvsbyddL9m6g10dkW4U591SuBbYk8z1M+JCP4+Xem/L3t26V05c09G6Mrpr8sc3b4zR9u5YOYe/NfY9u+r1ddb8kn9bU9af7/fgvVF2/Bp+3514rZnhM3Rh1nOz0NexudiV22KnEFQBFqZzYOY+49MvjfKoes3AvdkXy/nII8/Z20lX7Qeflkpz8235HaHmtFJZgnbhNbI7f72w27RmH7o60wfOkewDZ+qCqC8unOmD9SKeh1z2mjA2tCGWb1xf+XCbnYuO3rrm2eybml1ri3DtTA30Zl+0svenwY03Fbk7QR6caPCldfym2JaVWDaPF59Gr1uL+Zq2GO+x+4y98RqmuVk+65b62+lcFT3tozHaXnfTpATXAjtTqQDbHD8jNvubaPbeNb/3ttZY2d0eoxs3Z3+f47F542gedKnegoSZ7PbX1134PXivNsv33fm9llQs9HVsLnbltvZmu/MHI4IqwILlXSNkb2Cr16c3hYrKr4Q2xMUTvw6Yv/xFMnpiaOKDz2QamcNP/v7n//yfcdJJJ01J7D4LuUaWHzl1jWbXyO58o92lZuuvNe+CaGaL+bda1Vr9cJvOQfYBd/lgV6ye3ladfUyZa21xr53si1bx/jRjQHEx5L+Qzb4OzRJVGb6wL3vO8/vFbKPXrcV8TVus99h9wV55DVPKTJ91y/ztDPd2RfqVaRooteHYLE25FlhkKeCXXZfT376GJ8YDmOtnxGZ/E83eu+b73ta6Zl32t7ExNg+ncc5qf9UNZez619dd+T14r1Pi++58X0uShb6OzcWu3NZercT72c4iqAIsgqJrhNHRYr76RlYdnDeTBthK/ZTOR/Eiub5/8tee48P9kQ/CW/I+RQqosLSUvUZqB6Eb718dfdmXpWm/9mx2jUzkF7kLuR6XsuJ5dnWkfmWLZdkRGe5dny2d+Veyc/9brQwOuK36qaWu/Hh/Rz6QYu0Ae+kWVP0XAPY9za61nXPtdEZqJT+4vvoL88bX79y1xpqR7It4GnNhSouE9HfXMTGGQuUZzHHb017XxqO/OvjuTC1khi/MXh/bo3uuEZxFeI/dV+yd1zDlTP+s2/RvZ2IclYEYqB1fZd5cCyymzli7IXsn6cqu14kXramfGef8GbHZ38REfpFbX9+839vS38ZobFy/MUbnOCYGVOza19dd+j14b1M834bfd6cdk5rP0M0s9HVsLtfOgrdFRfP3s51FUAVYHHnXCMV0krrA2LA8NrYVzRhXr49Ynr27zEv2RXZsKLq3ry8GI2uJtuxD8/Khi43TsJvNOFB9lkrdNCh5jbRv2xSri3rbNi6PDWMDM3xZanaNpPzUJUulO5aW1ZtiWXftBbu3qByHDcs3xvrqcW1pi/XRHUMTx63oJqGv6He26XmoK59uIl+cHcttXRPHclXNsWxdc3EMLd8WXdX62rLzsGEs5thFMXuwmV4X8kGem1xrja+d+uuwvM40iO3EF9fG1+/8ZH93+QCY6ydeqyb/7mrHUGi27frnWPl7Xr6xOhBnW2yMDZX+vouxGrZlx7qjozd6ezuipWtb9GyYz/tis9fPfc++dw1TSnb+p/bO0uBvJ/06smsw2qt/k9nf7MX5F/4UdHMtsDS0rhmJsaHsNW19di3m13DdZ8Y5f0Zs9n6S8rNrdrbP4wt4b0vjDKSgZ8/OvHvGXm2Xvr42/duqWJzvwXubyvNt/H23UmbGz9BNLfB1bE7XzkK3RVXT97PMcF1gbab5uWrZkdoVAUvW3767P95y7jn59JZrrosVp5yQT88mlTnrzNOLufm77bbb4olPfGIxx77KdbA0OS/sTq6/pWQ8xofHYizaoq2zNfsaRxmuYRLXAfuCpX6dpxZ+bX3LY2hH7c3ieby35WNUbI91U+phX+X1fc/nHFJvV14TzbZ16WVX5PdmtVQBAIA9Umu0dnZGp4AKAEtdCny0dERvtXuW8eF8YPmY1mXXXN/bxqN/dV/EhrUCKgDsMoIqAAAAAOw8qRu8oeWxravonqWtKzYuHyrZJc8s8kGr27J60qDffl4AwK4jqAIAAADATtXaORAjO3ZE6oU+pZGBzoW1tMzqq9SzRotNAHYpQRUAAAAAAIASBFUAAAAAAABKaNmR2koCS9bfvrs/3nLuOfn0lmuuixWnnJBPzyaVedmf/Unccccdceihhy7oEQAAAABgX3DIIYcUUzO79LIr8nuzgiqwxM0nqJLK3P3AwhqiPeExB8ftP7+rmGNf9dD9H1zwtcTic17YnVx/7OlcwySuA/YFrnP2Ra77PZ9zSL1ddU2k7ZQNqrhCYS+UWposlJYqAAAAAABTCarAXmgxAiKLEZgBAAAAANibCKrAXkhLFQAAAACAxSeoAnuhFBA5+GEHLChpqQIAAPNw683x3VuL6V1hV29vrprt31z3f7HrAwD2Hrvoc4CgCuyFqgGR008/fV4padZS5bsfeXE+mP1s6fSP3FyU3I1uvTrWZvuy9jPFPOwrbv1wnP6YF8fgbB8kPrMm+ztdE59N083Kwpw1eO2tvfaa8hoO7G43x+B5NZ95X5K9ftW/X6b30Zd8OL6bz2SvWy/Jyh3bG28+dqbyN8dns8/Qp9fWV+RMmFJfs+03317j9afmn35edbuzyD5bD76kyfGYotn+Ncuvt9j1kR+zifOZzn9lfuHv4Xu4nfn5uNRxTNdytUyDc7KzTTkOtfuUZK8f6e8tv372kesCWOLS61T2mrSLPgcIqsBeaFeMqfL0N3wmbv/5XZV0w7vj2Dgu/uaGYj5LV7zhiKLkbpB/UM2+GJ57VvxzsQgAAMpLNwyfE++Mv4jr88+3X4tPrvpWvPLYqTcPv3vVZRGrTounZ9OfPS/77Lns0qzsZ+KKbJ3rU/lzJwMV3/1Ib7zyHUfHn+afmbP6ln08XjkRQKmYrK/59htvr9n60/P/dPvb4vjzrs5zp8vKZ5+t37mspr60/zXPr16z49Esv95i18ekV12SndMr35hfx7tfujZ384/0nvHG7Br6TPQ8o5jfxdK1/O1Vb4kXFfNLw6lx4VsjXjnxGnFE9FyZXTeXvKaYB9i9dvXnAEEV2AvVBkSuuOKKOaWqPXpMlRf3Zy+id8UVV14aryoWAbAvujm++5mr47OfyR6LJQCl3HpVfPorx8Xf/PdTixvNR8SL3vAX2WfLj8fwxC/Gb46rN0X86WlH5L/oft/FlfJVTz/tzDj2K5fF1cWvvD/0jq1x7LveUtyozer77++uyU9q62uy/Wbba7r+9PxTVx0XsX18ltfLm2PsKxGv6qqpr+s1EV/5TtySz9dpun/Njledxa6PfdAe8pkgv5ZfE+fN+UeKu+D5vXhlvOri92jhDiw9u+FzgKAK7IXKBkTqu/yqtVhjqnz3M2vi9IlmwZXmd5MfwopfIZ334UoTvYnuiCpdC5yelV17XuWxtsle4zrZlT57Xnb8637ROGVZs3P5kexcVs/jY14ca5dCt3F7o9QV3sTfTHach75VZMygyTmDxVN0Z/GRqdfnbK/nlW4ns/zPpNeJEuum94rHPCfe/N7NMTzUG8dXX2Pqu93IPoCn16HJbjWKuj8zt/1jb1Li3Dd4rVzYe+Msn43Y9Wb6pfqt4/HtOC7aJu51pkDD0dGaytz8nbghiumqZ7TGs2JrjKWXrWLdPGBSNW0bNfU1236z7TVbf4ZtX71paxxbtLqZ7tR407uOi39+b/UXn9m1OvTxPEhU/TX9lOu82f41y88sdn31FvSdIn/vyF4Xaj7LppYVeZ0183uvcq+Tk3mV17Xqzf5Gx/6z5z0n3vmViBve8ZzS3ymmbit7v8/KTnn9nO0zQW6G193q+c22MVu31xPnd6771uhzeCa1Vrth9cq5tVJp+Pwy8zwX050anau3xjs/UJyXPdTC3qfTNTH5d56f0736b31pcg6ZZh6fAxZKUAX2QjMFRGoDKDMFUeotSkuV7MPom8/+eDzrrV/LW46kdP2qiHfWNb+7YXtE50Upvz/78Jh94Dv2rBh762fiiiv748L3ZY+pmXG1q4KSdbJr5L+wrP21UnZ+Jn8d0ORcZh/gj39HFF1gpKbjZ8a339Hb4EM881M5D99eVf2bGYjO7IPFzJqcM9gJ/nnT5uI9IHs9f9fMr+fphkZ6vfibGz4TPS+evCE567rpZkh6r7gktVqsXMu3X3J0/HN6jTli5ZRfmuc3L7LHb48Xn7Y/szn+OV4TnS+uzJbZP/ZOs5/7xq+VC3pvLEz9bMTScHMMnvu2uOF5Z8ap1S/s6fWi7M3P4st+3FxzI6f+5mXD+mbY/pzMvn5+I+oxqSuw18R5tUGfOqn7308uuyyOz29UPSc+HZdO6fL3Re/Lrtn3Tf5CdKEWu74pFuU7xdZ4500r44Np/UtekwcB3jxUO//+vf7zU7PXyW+vunSye7koupdrcuxf9L6vxd88L+LYd2X5+flv9rpZ3VbNZ91lNZ91G30mqPn7m+11d0q311n65Oq0tNqSZB77Nuvn8KQIbh45+9/hNE2f3/zPxUzyFmqztmjbM/gOu+dzDlkKBFVgL7QrxlQpJf0C7oZLI97bO/Hl8fh3fHxaNwHpF3Evqv1yWnMzK/fit2QfrIsbYCXrZBd5xmnxp8/bGp++qnIzMr85Wf2y3uxc5j6erXt1fPbWbP0Xz/CLShauOA+TXQgU3XXMpNQ5g8X1qrf2T7wHPL316Gmv599+b01Ape71YdZ185uXM13L6fXqiOhcXQ2iVG5evGr1a+KGTVflNwi+O/6tiJqbms32j73XrOe+6WeVhb431n02YglIv2SvBB0+WTPuxGeHPp53h1Ve9rlnvLjpnt+8/Fa8syagNnt9M2+/vMbr58GLaWOuTJeCL69MY7BcmW5UfS3Oi7OiMrj5HmhRvlNUbuDlx/OIo/IxJv90yvy3Ynwvv0nX7HXyvDdMdhfXUw2SzfXYN3vdnNjWLJ91G34mKH5QkSnzupt+5PHKdOP2hux5pwUL3bdpKt3sPat1DkGVZs9vMc9F1Zz+TpYg32H3fM4hS4CgCuyFygZEZhpLpWqxWqqcnv8q5i8mvjw2G8guv5mVvcG9svhQV0mVJuD5DbB51MnOVOl/u3Izcmq3EU3P5Yv74/pL3h3P2vSe7Av8c/L808+7eo/+1dNSlJ+H5x0VhxfzjTQ9Z7Ab3JBdf8dmX5rm0tVEs+s+3dDIX7fyMQWyL13vWxmvyvvbnccvRNnnNH+tXMB7I0tP9tlzbR6QeHdcf2VxIzV3dQxfXHfTpqnaG5sRT58yRsss9c26/ZJKr1835kq9z6yJV2b798n3Td6YfdH7Ls1eO98WH5qp/FLnO8VO1fB9eI7HvtnrZrP3/Gb5ZU1pNVvcfF3ovi2GBT3/+fwd7BUBQ99h93zOIbufoArshZbKmCqVXwu8Oz5Y8+WxmfwXTtkXzk9WP9TVpNS9wHzqZOfKbwikm5GfqdycrP4Sq9m5zMu8+I1x4ZVFk/obsg82F58Vb9af6aKayy/ry5wzaO6IaHvezDeI53Nz4VWXfCauuCg18T+rZtyTxppe92mg1Sz/6vSekrdKqfQR/umrroqxr9SNeQB1Sr2/LeC9kSUkv+H4tvj2skvj+voWHumXsLVddc10o7F2DJP0utPoRmR9fUmj7TfbXj7faP/rxpdabM32r8z+11rk+nynmM3ivIc3eh+e67Fv9rrZ7D2/WX4peXdBW/PPJLW/Zl/ovi2GhTz/ef0dzDRuwR7Id9g9n3PIFHP9XLEIBFVgLzRTQKS2VcpMLVPqLUZLlcoHuPTL32JBGiDvvR8vZmaRf+H8eLzvI5O/FPjuZ7IvhMVAgfOqk52suBn53urNyUKTc5kP+lg3YNy3szSn5u40N3Eeig+Jjf5mmpwzKKf45VjqmzgfVL4iXUtvfsfkr8jm5BlvjA+mAZLPLnkDMP9QXfdr68+8P945ETBJN40+Hu9MN0iKrnby1ivveFv88wzjDcAUpV4ri8F8z37bnN4bWUKKgMQNqy+NKyZaZ0xKN5intGrLXqfOqxvAuXLDsvqaUlwT53544rPPdz/ynokuSqbV12T7TbfXbP3iWpz6OjlDlylVE+Vrbjo1Kt9s/5oerzqLXJ/vFLNZpPfwaa91N8dgMYj0nI99s9fNifxZPus2/UzQxGfW5GOWpDFeLqy/1he6b9PMHtSaVbPnt5jnomont77ZNXyH3fM5h9SY6+eKRSCoAnuhJTOmSmpW+a6j49PHFk0uz31PxLLjiszZnBoX3nBp/OlN74nji6aax2dvks+6ZKDyq6B51cnOlt+M/MrkzcmKxufy6W8YiE8uS313F+fy2Cxvpi8rLFA6D6l5c6Vp8xPO3Rxtq2Zr1t/k7w9KSoO6Xn9J9lr93uK6m7iWvjbvX+On14zUF/Irz5v8oDyr7EP1FZe8Jr599sFxevalae152Zens78Vr3pX9Vqu3DRK/eFP/HIp/wJW6VN9zkEf9jHlXiur/ebP5b2RpSP/Ip4mLj5r4nWsmtZ+JnU1EtNuyObdYW1P5V8caXyC4zcdHZ+8aLKFSBqAOw30Xv3sk+fnYzNMr6/x9vMiDbfXfP3Ktdj23mzd8yqvk6cPHVXsz0wq5fOxF/KB6rP03phSPh/wvuY1uvnxaJy/2PVNUeI7Rf32F2Ix69rZFuc9vHK9PGvTWcVr3XPi06kLujSOR9NjXw3sZNvPx+xp9rqZ8ht81m36maCxNNZR+lvK96fYfp7y87nAfZumeO43TQ+q/HO2/1O2n6XTU7Cm6fNbyLmYLh2PWNY689/VHsZ32D2fc0itOX0OWAQtOzLFNLAE/e27++Mt556TT2+55rpYccoJ+fRsUpmX/dmfxG9/+9u8W68yrVJqVde599574+4HxF33dQ/d/8Fy10H+a8jvxHk/n0df38xZ6fMCO8Gedf3dHN/9zM1xSxwRh7/4iL3iBgAL5zWUZKdeB7dmrz3Z687TS9ywXRS7entz1Wz/5rr/i13fXqz5dX51rH3MWRGX3LVX3VCsjH9ydHxyyneT7LrYEz4TzPt71a54ful6eU+01Ywrk3cleHbUHevdq/Tru++wS5ZzSL05fW5bwOeAtJ1DDjmkmJvZpZddkd+bFVSBJW4+QZVU5sADD5xxrJQyUlDl4Q9/eN6/JPu2cm9cN8fgS54Tn141/1+gMzdz+kABi8z1x57ONUziOmBf0Pw63wuCKvlN1cqv0C98cfZd5NarY/Dcs+Kdyy6N21NrjD1Qatn0viOX4HerFEAZWjn1uO6xQRXfYZcy55B6u+pzW9pO2aCKT5GwF6p23VUdP2WuKVmMLsTYB6QP0akJ+bI0wKEPMgAAsKfJu5bKu9raAz3jjfHBS46Ob59ddLF17FnZd5NLK91b7aFSFzbP2vT+cuPI7TJpvJWIT04c13RDOzveZ5cYg2Wp8R12z+ccsgRoqQJL3Hxbqiw0gps+kGqpwq76NQBz47ywO7n+2NO5hklcB+wLXOfsi1z3ez7nkHq76ppI29FSBfZhizHIvJYqAAAAAABTCarAXmgxAiKLEZgBAAAAANib6P4Llrj5dP/1sj/7kzywkgIjC3kEAAAAANjbNev6K6l2/yWoAkvcfIIqZ515ejEHAAAAAMBCGVMFAAAAAABgDgRVAAAAAAAAShBUAQAAAAAAKEFQBQAAAAAAoARBFQAAAAAAgBIEVQAAAAAAAEoQVAEAAAAAAChBUAUAAAAAAKAEQRUAAAAAAIASBFUAAAAAAABKEFQBAAAAAAAoQVAFAAAAAACgBEEVAAAAAACAEgRVAAAAAAAAShBUAQAAAAAAKEFQBQAAAAAAoARBFQAAAAAAgBIEVQAAAAAAAEoQVAEAAAAAAChBUAUAAAAAAKAEQRUAAAAAAIASBFUAAAAAAABKEFQBAAAAAAAoQVAFAAAAAACgBEEVAAAAAACAEgRVAAAAAAAAShBUAQAAAAAAKEFQBQAAAAAAoARBFQAAAAAAgBIEVQAAAAAAAEoQVAEAAAAAAChBUAUAAAAAAKAEQRUAAAAAAIASBFUAAAAAAABKEFQBAAAAAAAoQVAFAAAAAACgBEEVAAAAAACAEgRVAAAAAAAAShBUAQAAAAAAKEFQBQAAAAAAoARBFQAAAAAAgBIEVQAAAAAAAEoQVAEAAAAAAChBUAUAAAAAAKAEQRUAAAAAAIASBFUAAAAAAABKEFQBAAAAAAAoQVAFAAAAAACgBEEVAAAAAACAEgRVAAAAAAAAShBUAQAAAAAAKEFQBQAAAAAAoARBFQAAAAAAgBIEVQAAAAAAAEoQVAEAAAAAAChBUAUAAAAAAKAEQRUAAAAAAIASBFUAAAAAAABKEFQBAAAAAAAoQVAFAAAAAACgBEEVAAAAAACAEgRVAAAAAAAASmj5mws27CimgSXqLeeekz9uuea6WHHKCfn0bFKZs848vZgDAAAAAGChLr3sivzebMvnvjq2o6VYOKFl6pJp+bUala3Lqzctt6Z84zUzjco22G6zsrOvmWlWdp7bnX2tQqPtNthm0qhs4zWnammynVrNyi5mXbUald1Z20x2xXYPe+SD+aOgCgAAAADArlcNquj+CwAAAAAAoARBFQAAAAAAgBIEVQAAAAAAAEoQVAEAAAAAAChBUAUAAAAAAKCE/SJ+FJvf3BYnP7cmHdMaF91QlAAAAAAAACD22/zmk+PCL2VTr/6X+PxXx7L0L3F2NntJT21g5fr4yDGtcVKWPlI62HJ9XPRHh8eJWRKgAQAAAAAA9nT7/SAFVOKFsbb7+fmCiOfHme88MZ+65BMb4yf5FAAAAAAAwL6tGFPli3Htl39Umcw8ftXH4vM3jsfnP9gdj8+7B/uv8a9F3r/2TLZW+cmm18ZJzzliSnrr5ameH8UVb/ovk+u8vtpapdp65Zy44seV+Q9n8ydk6cNZ/tfe94w44Q8r6YV5Wh3/Jy8HAAAAAACwe+33hiveFcdlE1v/9uTJMVU2XF/JzT0pVn7wX+IVxdwrBsfjDcdmEze8O7r/5gvZxH+LDV+7Oa792v/Oy2z9m3VxxW1PitM/VJlPXvGPt8S5aZ0Gbv7YOfGWi7OJ9nfHp75+a1z6V6m1zBfi7//mkrg9LwEAAAAAALD77BeHdcd78rFUsjTw+srSf/qv+WD1f7FpsvXKNMe+La7d/HdxXPy/0Ze3UplsmTIfR7QdVZkYfVtcdkPEE864OL749VvjixedHU+o5AAAAAAAAOw2RfdfhWP/shJcGawEV7b+zT/H1/KpGfx4Y6xd+fbYGifGX2yebKmSWpf84LZ8Ym5OOD+u++h/yyf/9XXV7r+ekXcLBgAAAAAAsLvt98epu6831w1I/6TD8y7BGvnJl6+MrWni1b2x8on5ooU79u1x3ddvzdMXiwDLJ1/3d3FjPgUAAAAAALD77Hd2+vdL74iz+7+cL0iDzG9+V2qBknn1yfGcfNl0j3/ykZWJf/p83prlJ5cPlOj+6ynxlPb0+IX4wY8ibr/8I1MGs88HqX9f7XgumfYjYrFiNgAAAAAAAPO13xu++vlY+4JsKo2jkg9Uf3JcOJrNv/pf4vN9x+eFIo6P57+6MvWvPa2xNo21cuzbYkO+rDKmSmXQ+lrHx/GrK1MpYPLWy9P4LE+K019bdPGVLXvZlphoEfOKf7wu/jIFXC5+RR5ceeHr/t9s5sT4y3caUwUAAAAAANj9Wj731bEdLcXMhJapS6bl12pUti6v3rTcmvKN18w0Kttgu83Kzr5mplnZeW539rUKjbbbYJtJo7KN15yqpcl2ajUru5h11WpUdmdtM9kV2z3skQ/mj1uuuS5WnHJCPj2bVOasM08v5gAAAAAAWKhLL7sivzc7daB6AAAAAAAAZiSoAgAAAAAAUIKgCgAAAAAAQAmCKgAAAAAAACUIqgAAAAAAAJTQsiNTTANL1J133pk/brnmulhxygn59GxSmbPOPL2YAwAAAABgoS697Ir83qyWKgAAAAAAACUIqgAAAAAAAJQgqAIAAAAAAFCCoAoAAAAAAEAJgioAAAAAAAAlCKoAAAAAAACUIKgCAAAAAABQgqAKAAAAAABACYIqAAAAAAAAJQiqAAAAAAAAlCCoAgAAAAAAUIKgCgAAAAAAQAmCKgAAAAAAACXMMagyHL0tLdE7XMzuUpVtt8yQOnr7Y7woVcp4f3Tk63ZE/5xWLGN3HiMAAAAAAGBnWUItVcajv6MlOppEOXqGdsSOHTVpbCi6t/VF2xyiGMMX9sVoz1C2/kisaS0WAgAAAAAANLDnd//V2hlr1vVEDG6KcmGV8bhpW0T7srZiHgAAAAAAoLlFD6qMD/dGR0dN91wdvVO62Brvz/KreS0d0VtkDve2Rd9oxGhfW7QstO+s8eHo7+jI9qM3ensrj8P5ZlJrmJrttGTLqy1kevujN9/vtKxRHRWzPY8JNw0X9VXya7OHe7Nl+gcDAAAAAIA9yuIGVcb7Y3XXYCxfNzbRPddYd0Tf6mLMk+HeaOuL6B4ruu4a6o5tfavzgEPnwFhsaI9o35CtO9CZV1dKCn6sH4zoWRWVtYajt60rtq8biZGRgRgYyB7XRXS1pWBJa6wZqdnOjoFinYjRbRGrLk77lZY1qiPT4HlUDW7cVNSXHYMNNccg0zmQLZ/LcwQAAAAAAHa7xQ2qtK6JkbGhiPWrJ1pxtPUNRoxuj7GiSMRgbNw8HMPjKZKSlZ/juCaDXdXWH0VqWx/bu4dirBqkGN6UbaEnVtXGLDrXxob2wdjUoHFIe/fK6KzuR6k6Gj+PnnUDE/W1Hrm87hgAAAAAAAB7mkVvqdLR1hXbutfFxUVLlR1DPUVmpnMgxoY2xPKN66OrLXW/lbrdSh1wlTd1oPqxGOoZjcGNNxW52S6kAVNiMLpqAy8tlS6/tt1UbktN61iE5wEAAAAAAOxZFjWoMr55Y4y2b4iL13TGbI1PWjvXxMDISCUoMrYhlg92xer68UhKa43OgaHoGe2LC4sWJHmrkOiJoYnAy2QaKdkkpkwdi/s8AAAAAACApW5RgyqVbq42xuZqbGF8OHrTeCeF8f6OfOD62gHfU5uQ5UeWC3bMrDNW9UQMri/GLOlcFT0xGOv7J1uOjA/3R0fdYPENNalj5zwPAAAAAABgKZtXUGXauCap+6sUbUjdYm1YHhvbiuWr10csby/Wimhdc3EMLd8WXdX8to2xfMNYVIZDaY2V3e0x2tcWLR2Tg7qX0bl2Q7RPBHM6Y2BsKLq3r4+2Yt/a1mfbGbp4DmO3NK6j8fNobrg3W6e3wQAvAAAAAADAktOyI/VfBSxpd955Z/645ZrrYsUpJ+TTs0llzjrz9GIOAAAAAICFuvSyK/J7s4s7UD0AAAAAAMBeSlAFAAAAAACgBEEVAAAAAACAEgRVAAAAAAAAShBUAQAAAAAAKEFQBQAAAAAAoARBFQAAAAAAgBIEVQAAAAAAAEoQVAEAAAAAAChBUAUAAAAAAKAEQRUAAAAAAIASBFUAAAAAAABKEFQBAAAAAAAoQVAFAAAAAACgBEEVAAAAAACAEgRVAAAAAAAAShBUAQAAAAAAKGHpBFXGx9P/u86u3h4AAAAAALBHm0dQZTz6ezuipaWlkjp6Y7g2ODE+HL0dRV6WOnqHszXqjPdHR0d/sbwo37Y6VrdNr2+4d7KuyZSVKfJzU+prsn9Nttd8/an5Hb3V7c4iOx79HY3qq9e4/lLHo0bD8sO9M+QVaeJ4AgAAAAAAyRyDKuPR39EWfbEuxnbsiB07xmKoe1t0tVVv6g9Hb1tXbOsemsjv3tYVbb1Tb/mPb94Y0b0yWrPp4d6uGFw+lJUdiZFsnbFU3+qpN/TbN4xl+am+ahqIziIvmayv2f41216z9afnd2/rm/b8JmXlV3dF3/Ka+pYPTnt+k8rV3+x41Ju1fOdA3fJKGurJ1inODwAAAAAAUDG3oMr45tg42h4b1nYWN9xbo3PNuuiJwdiU7vsPb8qmemLdmsn8NRdviPbB9dE/EUUYj0oMJCsx3h/rByv1VbWu7I720Y2xOS8/Hjdti1h+ZKPb+7X1Ndm/Zttruv70/JXd7RHbbpolSDIW20cjelbV1LeqJ2J0e5Yzg6b1lzketeZaPpMfo3QO57AOAAAAAADsA+YWVGldEyM7RmLK/fbxm2JbtMeytmK+XuuRsTxGY/tEFCEFGpZHfp9/bHuWU0xXTSsfsW19b3RMdEvVW9d9Vk19zfav2faarT8tPwV0Rhu06uiMtRvaY3B9TUuYTYPRvmHtRMuSvHuuakuUkvU3Oh5T6is0Pn5TDV/YF6M9q2Zp+TIcvVkdvf39k128ZfVNBsyaSN20tXREf//k/nRkK48PT50HAAAAAIClaIED1afurfpitL07UkOR6FyVt+pY318dR2U8hvvXZ0tqpNYss960r1dp6RHdq+LivGuqovusmu68GtdXt39zNvv6lbFKUlddPbGuQeWta0ayfd4YbR0d0dHRFhtjKEZqojadA9nzGpi+9zPX3/x4TK2vxPGrNUNLnpkMbtweqy5O9aXu0yL62jrKB1ZiNPq2F/sz1BOjfW2xelPt/IUz7xsAAAAAAOxmCwiqVMf/6ImhkTVFS4rOGBgbiuUbu6Itb3mwOjZFd1Zi0vCmwbw7rHKy+nbsiJGa7sQ6B4bywE3eHVdm9vpm2r+5aLx+HrxIQYq6MVvqpeBIVxojZWQkRkbGsqmuUoPAz1x/8+Mx1dzKV1qprJvaUmcGPesGorMo07pmbWxoH42Nlf7aSqjp3qxtWTbXHt1T5rfFTRqrAAAAAACwBM0vqDKeun9KAYcNMTZSN0h6a2cMjFRaMaTB4AdWRk33YMOxabAnSsdUZtQWy/JhRtKd91nqa7R/ZZRev27MlXrDvdGV7d/QQF1QY7QvLpwtCjNFk/pztcejjFnKl2ylAgAAAAAA+6q5B1XG+6OjrS+2LR+KsfoWHCkvjZlRe7++dhyT+q66ZmqZUDuGyXBvtLTUtwKpdGmVD74+U9dfjfav2fby+Qbrz7g/i6hZ/c2OR705lM9bqcy7m7Q5DoYPAAAAAAB7oLkFVYqAw2jPUIxMtL6o0boyuttHo+/CYkyV8eHo7ZocmH38pm3RPhG9yLSuiXU9lfJV45s3Th+jpbdmjJberhhs3xCpQcW0+pruX5PtNVu/2J8prUZSYCdbOmPrm4nyNVGcUuWL+aS2fJPjMU3p8qnFT+rWq1w3aYPZDlaf0Xj/6ugbXWjrIwAAAAAAWPrmFFTJAxBpYrArWvIxUyZTbx4IaI01I2OxIdZXxlRp64ptPUNxcT5Ix3hkq0d3XVOIvDusbam+jujI1mnbuDyGLq7e3K+M0dK9raivpS2rOXXJlfKn19d8/xpvr/n6lf1Ztj5bt7c3enuzx03LYmhsti7CKuVj/eroyAeqz9L6mFI+H5C+unNN6290PCpmqq9R+WS8f/3sgZkZtMemWF0cl3T8Nsz6fBZmMesCAAAAAICFatmRBj9ZCsbHYzxao7X2bv/OtKu3t1cYjt6WroihHTFQMgDD4rjzzjvzxy3XXBcrTjkhn55NKnPWmacXcwAAAAAALNSll12R35ud30D1O0PrLg5w7OrtAQAAAAAAe7SlE1QBAAAAAABYwgRVmIPOGNih6y8AAAAAAPZNgioAAAAAAAAlCKoAAAAAAACUIKgCAAAAAABQgqAKAAAAAABACYIqAAAAAAAAJQiqAAAAAAAAlCCoAgAAAAAAUIKgCgAAAAAAQAmCKgAAAAAAACUIqgAAAAAAAJQgqAIAAAAAAFCCoAoAAAAAAEAJgioAAAAAAAAlCKoAAAAAAACUIKgCAAAAAABQgqAKAAAAAABACXMMqgxHb0tLtPQOF/M1hnujpaU3K7EzFdufIXX09sd4UaqU8f7oyNftiP45rVhGZT9nOkwAAAAAAMCeaX4tVQa7dlLAYDz6O1qio0mUo2doR+zYUZPGhqJ7W1+0zWGnhi/si9GeoWz9kVjTWiwEAAAAAACYxbyCKu3t7THYtbNbpcxBa2esWdcTMbip5D6Nx03bsuexrK2YBwAAAAAAaGxeQZXl60ZiqGcwuhq1DBkfjv6Ojujo6I3e3srjcN4ApdIapbYLseHebL6jP/p726JvNGK0r23mLsbmouH2a7aTd1lWtJDp7Y/etG/VbsxmraNivL+36EKs0o1Yb30Lm5uGi/oq+bXZ+XPeOc19AAAAAACAnWDeA9V3DgxFz2DXLF11DUdvW1dsXzcSIyMDMTCQPa6L6GpLwYrWWHPxhmivdiE23Btdg+2x4eI1sWZgLDa0R7RvGIsdA52VqspIwY/1gxE9q6KyVpPtj9RsZ8dAsU7E6LaIVRenLsXSskZ1ZLL9buuL6B4ruiAb6o5tfaunBE4GN24q6tsRYxsi+lZPjvvSOZAtn8tzBAAAAAAAdqt5B1UiOmNgqCdG6wIJueFNMRg9sao2ZtC5Nja0D8amFJFoXRMj2bqDXR3R0ZWVHJrbuCaDXdXWH0VqWx/bu4dirBqkaLb9WbR3r4zO6n6UqmMwNm4ejuHx7AB0Zs+pbnyWnnUDE/W1Hrk8YnR7jFVmAQAAAACAPcwCgiqZzoEY6hmd0gIjGU8DlsRgdNUGPloqXW5tu6ko2bkqetpHY7S9LnBRwtSB6sfyfRjceFORW3L7TTStI3vuY0MbYvnG9dHVlroRS92HpY7EAAAAAACAvdHCgiqZvBuw0b5YvT4FISryVhnRE0MTgY/JNFI05Rju7cpbgvSkwMWCxhZpndiHC4tqymy/mTJ1tHauiYGRkcrysQ2xfLArVs/YHRoAAAAAALCnW3BQJardgI2OFvOZ1AolBmN9/2TLjfHh/uioDtY+MY7KQAzUjq8yb52xqidicH3RYqbZ9stoUsd4f0e01A1cn8JKy48sF7QBAAAAAAD2LIsQVMnk3YAV07nOGBgbiu7t66Ot6Dqrbf3GWD50caxJA8B3DUb7hmw6xR9a18TFG9pjsCsFKFpjZXd7jPa1RUvH1C7FmulcuyHaRzfG5nylBtsvHfNoXEfrmotjaPm26GorugZry/I2jEXZseeHe7N1FhZJAgAAAAAAdqGWHanvKmBJu/POO/PHLddcFytOOSGfnk0qc9aZpxdzAAAAAAAs1KWXXZHfm12clioAAAAAAAB7OUEVAAAAAACAEgRVAAAAAAAAShBUAQAAAAAAKEFQBQAAAAAAoARBFQAAAAAAgBIEVQAAAAAAAEoQVAEAAAAAAChBUAUAAAAAAKAEQRUAAAAAAIASBFUAAAAAAABKEFQBAAAAAAAoQVAFAAAAAACgBEEVAAAAAACAEgRVAAAAAAAAShBUAQAAAAAAKEFQBQAAAAAAoARBFQAAAAAAgBLmFlQZ74+OlpZoaemI/vFi2YTh6J01bzfI93WJ7AsAAAAAALDHm2dLldHYPlZMVg1visFiEgAAAAAAYG8zj6BKe/T0tMfgpuFivmJ402C09/RkuQAAAAAAAHufebVUWbaqO9oHN8VkWGU4Ng22R/eqZcV8xfhwb3R0pC7BitTRW9MdV6W7sN7+7HGiTG13XUV+bewmq6+lpXdiu43rBwAAAAAAWDzz6/6rbWV0tw/GRGOV1PVXe3esbCvmk/H+WN01GMvXjcWOHTvyNNYd0be6P2rjHoMbN8Wqi4v8DdPzZ1WyfgAAAAAAgMUwzzFVWmNl92QXYHnXX90rs6U1WtfEyNhQxPrVxeD2LdHWNxgxuj1qh2PpWTcQncWKrUcun5Y/q5L1AwAAAAAALIZ5BlUiWldWuwAruv5aOSWkkrck6Wjrim3d6+LioiXJjqGeInMR7Oz6AQAAAAAAasw7qBKtRRdg/TfFttT1V31MZfPGGG3fEBev6ZzagmWR7Oz6AQAAAAAAas0/qFLtAqyvL6K+669MpSuvjbG5OsDJ+HD0rh8sZspoi2XtEduqA7fUrb/w+gEAAAAAAMpbQFCl6AIs+29a119J50CMbVgeG9sq4520rF4fsby9yCyjNdZcvCGWb+sq1t8Uq7pruvdacP0AAAAAAADltexIg5EAS9qdd96ZP2655rpYccoJ+fRsUpmzzjy9mAMAAAAAYKEuveyK/N7sglqqAAAAAAAA7CsEVQAAAAAAAEoQVAEAAAAAAChBUAUAAAAAAKAEQRUAAAAAAIASBFUAAAAAAABKEFQBAAAAAAAoQVAFAAAAAACgBEEVAAAAAACAEgRVAAAAAAAAShBUAQAAAAAAKEFQBQAAAAAAoARBFQAAAAAAgBIEVQAAAAAAAEoQVAEAAAAAAChhQUGV3/3ud3H7z++M+++/v1gCAAAAAACwd1pwS5Xnv2M4vjr+07j33nuLJQAAAAAAAHufOQdVduzYEffdd1/cc889+fz3f/abOPXvPhObtn4vX5byAQAAAAAA9jZzCqo88MAD8ZNf3BV/vfFr8bzzN8fDX/XJfPldv70vzt7whfjbS7+eB1YefPDBfDkAAAAAAMDeonRQJQVUbhj7Sd7d17su/2Z88/u/LHImffqrP8xbqsyltUp/R0RHfzFTZzxb3pLlj49nZVqystnjklLsV8tO2rferN7e4WJmd1qqxx8AAAAAAHahUkGV1PLkP+/4dd7NV+ruK/mvJxwel/SdmE8naX7r33XFQQcdFPvvv3+xtLmV3RGjfREzxQ42b4xoz/JbWyNGdkSsyR6XkuELs33vSV2iLb19m6v64NaU+SV6/AEAAAAAYFcqFVS5//77Y+2/3Jh385WkYMo/vqE9/uS5T87n3/NfjsnnDzzwwNhvv/3yVi1p3JUyWtdE9GSPm+qjKtl832jEuix/qbppW0T7smIGAAAAAADYq5VuqfLpr/4gn37TaUfFquOelrdISa58+ynxlq5leUAlBVPuvvvuvJuwNF3Wqp6IwU3FTGE4zWfLO9NMffdT2WPekiJLvb2Vx+GUN1zpimsiPlOsV9uF1mxdauX1ZXX1Zo8Tdcy2nUxanoI+qZVNtfxc60hSF2fVLsRS6q3vCu2myfpSatQFV8O6GuzHcDY/8Vyy6fr56nGsbjs/hlnds+5XNl2bN+V4pOxmzxkAAAAAAJagUkGVNEZKtZVKap1ywAEH5NPJi579pDzAksrcfPudcVTfpjh+3fCcxlXpXJX9Mzh50z3ZlM33pOUz6G2L2L4uYmQkYmAge8ymu7Jlw51TW72Mb44YzR633VSZTxvIqo1VeaRmutFtWd7Fle68UpFZt5PlrcmWbWiPaN8wWT6ZSx3pn7a+iO6xSvkdQ9m+ZvO1AYrBjZP1jWXb6ludxyyma1JXo/3ozOYnnks2XT8/k0b7lba1rbvYjyytWl5kJCWeMwAAAAAALEVNgyqNgiOpdcpDHvKQYi7ie//564kxV+aks3ITf6ILsOxx1uDHTHk166dWL9UgShqTpSebH80e0z378bS82vplBmn8ls7quCFNtjOb+dSxcXNWNO1gllc/dknPusn6Wo/M/hmNGKvMzmjGuub5XBqZdb+KbdV225YHzeo0es4AAAAAALAUNQ2qtKT+mWp872e/mejaq3ZA+rQs5c1XGrB+cH0l+JG6/kqtJGpjAFV5YCTTVdN9VEqpu6oUTEk38PMgSlbRxmzZqoGInuxxczafD3xfcgyUZtspo2kd2RMcG4pYnu1XajWS8lL3YekYzFmDuhbjuZSVb6s9ItuFmS3mcwYAAAAAgF2oVPdfafD504+pDEq/9l++Gj+/67f54PWpFUtKaVD6tCzlJalsbcCljNaVEe1F8GP9YER3Nj+TvFVEZih1HVWXRlLriM4iiJK6/ipapaTWK6llxPZs+Wz11mu6nRLK1NGa7eDASLF8LGJ59txXz3OMkdnqWoznUtaUViuzWMznDAAAAAAAu0qpoEoaQ2Xdmc/Op9PYKs9/x3B87LPfyQelT+njn7spX1YddyWVnWtQJVqz9VLwY3XEaHvEytm6g0pBk+xhff9k64bx4akDqS/L1u/ry8oV3U7lrVey+cFG9dYrsZ2mmtSRBmxvqRkwPtmWpeVFEGQuGta1GM+lrJpt5bL6e9cX05nFfM4AAAAAALArlQqqpADJcw5/bAz0HJ/Pp3FTegevj4e/6pN5StPVsVRSmVR2zkGVTB78GI18vI5GsY+BsYju7RFtLZXuo9rWRywfmhyXI3Ulliyr9kFV3OhP452UjakkzbZTRqM6WtdEDC2f7AarJXtcviFbJ9vfuWpWV5ljlgJPKeCR4h3183ORtpW698r3Y3V2HorzkSzmcwYAAAAAgF2pZUejkehrpGL33ntvfP5bP453XfbNuO7//rTIqTjhmb8f7zjz2XHy0YflA9jXj8XCviu1Tmnrq3Q/JnYyP3feeWf+uOWa62LFKSfk07NJZc468/RiDgAAAACAhbr0sivye7OlWqokKUhy0EEHxYv/8Clx9boV8e1/eGlc+fZT8pSm07KUl8oIqOzDxivdivUOT85v3pg99gioAAAAAACwZyvdUmVnEX+havdeiUublioAAAAAALvPnFuq7CzpRrokpQQAAAAAAEvZbg+qAAAAAAAA7AkEVQAAAAAAAEoQVAEAAAAAAChBUAUAAAAAAKAEQRUAAAAAAIASBFUAAAAAAABKEFQBAAAAAAAoQVAFAAAAAACgBEEVAAAAAACAEgRVAAAAAAAAShBUAQAAAAAAKEFQBQAAAAAAoARBFQAAAAAAgBIEVQAAAAAAAEoQVAEAAAAAAChBUAUAAAAAAKAEQRUAAAAAAIASBFUAAAAAAABKEFQBAAAAAAAoQVAFAAAAAACgBEEVAAAAAACAEgRVAAAAAAAAShBUAQAAAAAAKEFQBQAAAAAAoARBFQAAAAAAgBIEVQAAAAAAAEoQVAEAAAAAAChhbkGV8f7oaGmJlhlS73A1vyP6x+um9znD0ZuOS35Q6gz3ZserNysBAAAAAADsSebRUqU9NoztiB07pqaBziyrdU2M7BiJNa2VkpPGo7+jJTr2tQjLYFcl2AQAAAAAAOzxdP+1E7W3t8dgV5lWKeMxPjwcw8PZY7EEAAAAAABYWhY3qDJLl1/DvW3RNxox2tc22SXW+HD0d3RER0dv9PZWHocn1itatvT2R2/2WO0ua7h3li61lqjl60ZiqGcwuhrt83BvdszaYvX6TbFp0+poy45f78QBrHQj1tufPebHIaW649vwOAIAAAAAAItlHkGV0ehrq97gL1KTQEfnwFhsaI9o3zAWO/J+woajt60rtq8biZGRgRgYyB7XRXS1TW3VMbotYtXFqXuxgUhrdQ5k0/n6e47OgaHoGeyaueuzFITqGozlQzsmjsOOoeUx2Ld6SuBkcOOm4jjsiLENEX2r+4sWLeWOIwAAAAAAsHCLM6bKXAMdw5tiMHpiVe1qnWtjQ/tgbKqJBrR3r4zOaeOz7Gk6Y2CoJ0brAiW5se0xOuNxGI2NmycL96wbmDgOrUcujxjdHmNppuRxBAAAAAAAFm63jKkyftO27N/B6Kpt7dJS6SJs200ztOjY03UOxFDPaE0Lk4r8OLQvi7Zifq72ueMIAAAAAAC70W4JquStLaInhmpbuxRpZM0e3zRlRnk3YKN9sXp9CoRUTGl1Mg/74nEEAAAAAIDdZbcEVaJzVfTEYKzvH55ouTE+PPMg93uPohuw0dFiPtO2LNqz4zClq67hC6NvtD26V5YIiuyTxxEAAAAAAHaPXRRUaY2V3e0x2tcWLR2pC6zOGBgbiu7t66Ot6Laqbf3GWD50cTRqYDHcm5VtMij+kpZ3A1ZMJ61rYiRbsK2rJTo6eqO3tyNaurZFz4bGx2HS/I4jAAAAAAAwdy07Ul9R7GbjMT48FmPRFm2drSEeQr0777wzf9xyzXWx4pQT8unZpDJnnXl6MQcAAAAAwEJdetkV+b3Z3dP9F3Vao7WzMzoFVAAAAAAAYMkSVAEAAAAAAChBUAUAAAAAAKAEQRUAAAAAAIASBFUAAAAAAABKEFQBAAAAAAAoQVAFAAAAAACgBEEVAAAAAACAEgRVAAAAAAAAShBUAQAAAAAAKEFQBQAAAAAAoARBFQAAAAAAgBIEVQAAAAAAAEoQVAEAAAAAAChBUAUAAAAAAKAEQRUAAAAAAIASmgZV7rrrrgUlAAAAAACAvUHLjkwxPasUHFm7dm2Mj48XSxprbW2NCy+8MA4++OBiCbAQd955Z/645ZrrYsUpJ+TTs0llzjrz9GIOAAAAAICFuvSyK/J7s6W7//rzP//zeMQjHlHMzS6VSWXL6u+I6OgvZuqMZ8tbsvwUy+loycqWi+nMT7GNlrSd4Zrt7Ypt7yx78r4DAAAAAMASUyqoklqcPPGJT4z/9t/+W7FkdqlMKlu2lcrK7ojRvojhYr7W5o0R7Vl+a2vEyI6INdnjzjJ8YbYfPRGp3c6aztm31ygItDvU78+U+V1w3AAAAAAAYF9RuqVKCpKcdNJJ8eIXv7hYMl3KS2Xm0u1X65qInuxxU31UJZvvG41Yl+XvCjdti2hfVswAAAAAAADUKR1USVKw5PWvf30+Zkq9tCzlzSWgUrWqJ2JwUzFTGE7z2fLONFPfjVX2mLfIyFJvb+VxOOUNV7rvmojPFOv11gRseuvmk1RXCuCkFjP5+vXbKwxn25ool03nZtuXQp6XLe/NHqfsW43UzVnaXspPqbe2JUyD+uv3Z9r+ZeVqn0f+3LO6q/uS0pTnmE3X5tXvc8P9BAAAAACAvdycgirJQQcdNG18leo4KilvPjpXZf8MTg04bMrme9LyGfS2RWxfFzEyEjEwkD1m013ZsuHOqa1exjdHjGaP226qzKcNZNXGqjxSM2lNVs+G9oj2DZXuv+qyJ3Rm25ool00ns+5LJTs3ui3b5sWz1J0VbOuL6B6r5O8YyvY3m58IhDSov35/Ztq/eoMbJ/dlLCvXtzqPpeTStrZ1F/uRpVXLi4ykyX4CAAAAAMDebs5BldQSpX58lbmOozJNZyUYMNEFWPY4U/AjN1Nezfqp1Us1iJLGZOnJ5kezx3Tvfzwtr7Z+WQxN9qUqjQvT2WRck42bs+rSTmbrT4yDUrL+uehZN7kvrUdm/4xGjKWZYlu13a3lwa46M+4nAAAAAADsA+YcVElS8CSNnVI113FUZpIGrB9cXwl+pK6/UmuL2lhCVR4YyXTVdEOVUur2KgVTUiAgD6JkFW3Mlq0aiOjJHjdn8/nA94s4bkqzfSkle5JjQxHLs31LLVDS+qm7sHQcFqX+kvJttUdkuzCzBvsJAAAAAAD7gnkFVXaG1pUR7UXwY/1gRHc2P5O8dUVmqOiiqjaNpFYWnUUQJXX9VbRKSa1XUguL7dny2eqdj6b7UlJrtpMDI8W6YxHLs+e/un/x6i9jSquVWcy2nwAAAAAAsC9YMkGVaI1Yl4IfqyNG2yNWztatVAqaZA/r+ydbSYwPTx2QfVm2fl9fVq7ovipvvZLNDzaqdz5K7EszafD3lprB55NtWVqeghyLUH9pNdvKZfX3ri+mMw33EwAAAAAA9gFLJ6iSyYMfo5GP+9Eo9jEwFtG9PaKtpdINVdv6iOVDk+N7pK7EkmXVvqyKgEEa22ShMZVUdwrQpABDii8025dmWtdEDC2f7FKrJXtcviGrN9vnpMxzrd2f+vm5SNtK3Xvl+7E6O37FcUya7ScAAAAAAOztWnZkiuk5ueuuu+KMM87Ipy+//PIFj6nC0pNap7T1VbofEzvZve688878ccs118WKU07Ip2eTypx15unFHAAAAAAAC3XpZVfk92YX1FIlBVNSYi8wXulWrHd4cj4N7J+a+AioAAAAAADAArr/Si1TatN85V1JSbs/tUUapz4Guybn+/IFNWVmSQAAAAAAsC/Y7WOqpM7HpD07AQAAAADAvmBJDVQPAAAAAACwVAmqAAAAAAAAlCCoAgAAAAAAUIKgCgAAAAAAQAmCKgAAAAAAACUIqgAAAAAAAJQgqAIAAAAAAFCCoAoAAAAAAEAJgioAAAAAAAAlCKoAAAAAAACUIKgCAAAAAABQgqAKAAAAAABACYIqAAAAAAAAJQiqAAAAAAAAlCCoAgAAAAAAUIKgCgAAAAAAQAmCKgAAAAAAACUIqgAAAAAAAJQgqAIAAAAAAFCCoAoAAAAAAEAJgioAAAAAAAAlCKoAAAAAAACUIKgCAAAAAABQQsvnvjq2o6WYmdAydcm0/FqNytbl1ZuWW1O+8ZqZRmUbbLdZ2dnXzDQrO8/tzr5WodF2G2wzaVS28ZpTtTTZTq1mZRezrlqNyu6sbSa7YruHPfLB/HHLNdfFilNOyKdnk8qcdebpxRwAAAAAAAt16WVX5PdmtVQBAAAAAAAoQVAFAAAAAACgBEEVAAAAAACAEgRVAAAAAAAAShBUAQAAAAAAKKESVPnxxviL57bFydV0TGuW3h1fyzP3VNfHh579tOh49qvj/9xWLAIAAAAAAJin/eKGv4+TT39HbI0XxtorxuLzX83S4OuzrH+MPz/mtbH5x5WCS9v18aE/eHp0ZOlDXykWxfHxpm9+L0a++U/xJ08sFgEAAAAAAMzTfh/p/cd84uyBj8fKw/LJiGPfFpe888Rs4gtx4SXXV5YBAAAAAADsw/a7JX94fRx/bD4x4fGrPhafv3E8Pt93fD7/k02vjZOOaZ2a3rwxfpLnXh8fec4RsfZNr4kTs8eJ9A/VgMz1cdEfHR5vfeM5cWL2WE0nTORnfnxJ/I8/fEacUKQXZunDNxR5SZZ/XrE8T3/w9Djvsh9lGT+K//OGl8cnK6Xik6+rtlaZ2v3X7Ze9Opt+WrTXpjf8W9weX4oPLX9q/Hnvq6I9e3xBNf2vL+X1AQAAAAAAJPvl8YcXPCMa9pD1443x3r/5Qjbx+thw43hce+O18Rft2ezo2+O9l6fARsXW0azMq/93fGHzBXFcWnDxR+KKmu7D8vzVn4wvDNflp4BK5/mxNU6Mv7zy1rju61+Mv8zq/+TrisBKCqi85G1ZfsQrP3prfPHr/xqvzKa3/lVHfPgrT4o/+ci/5fPJKz/63XjT84qZqh/9W7znf16bTfTEB7/5vRj95kic35HNjvxl/P1l38uLfHkky3/NJfGlq98Tz08LPv7h+LSxWAAAAAAAgEJloPomfvLlK/OARrz65HhOvuRJceyLU/dgEVu/+4P8seLE+Iuzj4944lPjiGLJVFn+y7P8w542Jf/264cr9bd3xbF5F2RPiuedWqn/k1+4PssfKvLfHWfmLWqOjzd+47vxxSy9sT6AMoPvf2EovpwmzjkljsmXPDmr/6R86su33pw/RpwU57/iBdm+Py1aiyUAAAAAAABV++UxiS/dGnNtlPH4Jx9ZmRj/ftEF2Ey+ED+YbMgygy/E92vzR98WL/vDSvdfZ/1VahmTGfve5L61PS2eUEwu1BOeclRl4qb/G+OVqTrXxvd/WEwCAAAAAAD7vP0Ozx/+Ma6vHb8kk8ZQOfmY1jh5w8wD1f/khzdVJlqfGo+vTC3c6n+N676euv9KXXwV6aKzJ7smG/te3F5MLtTtP/hOZeLIZ2qZAgAAAAAANLXfGwZen09c0vua2Fwd/+SGd8fZ+RgqJ8bas4+Pxz//JZUxUP5psCjzo7jhM5WWJMc9/Sn540I84Yw3xCvSxMWvmBic/sb3FQPSv+/6eMLxXZXtj74tLsvzr48P/8HT88HqP5wPCtPYU0/sqoyT8okP54PWR/wwvnJ1GmMl4vnPmLmjMgAAAAAAgFr7xbF/GZ+/4l1xXHwxLjy9LU5+bpZ6/jHLOjHWbv5YrExjnBzWHW99Zxrj5AvxnpWtcdIxJ8V7RrPZ9r+Lt57xpGxioY6PNxaD1//r6yrdf73l4mxm9b/GF89LY7CcHe+78t15fhq8/oV/+Ir4ZDZ93F+NFGOqHB/t56THlP/0OO+yun67nvTy+Iu/TmOoXBsXnPa0aH92R1wwks12/H385ZlPy4sAAAAAAAA00vK5r47taClmJrRMXTItv1ajsnV59abl1pRvvGamUdkG221WdvY1M83KznO7s69VaLTdBttMGpVtvOZULU22U6tZ2cWsq1ajsjtrm8mu2O5hj3wwf9xyzXWx4pQT8unZpDJnnXl6MQcAAAAAwEJdetkV+b3Z/Yp5AAAAAAAAGhBUAQAAAAAAKEFQBQAAAAAAoARBFQAAAAAAgBIEVQAAAAAAAEpo2ZEppoEl6s4778wft1xzXaw45YR8ejapzFlnnl7MAQAAAACwUJdedkV+b1ZLFQAAAAAAgBIEVQAAAAAAAEoQVAEAAAAAAChBUAUAAAAAAKAEQRUAAAAAAIASBFUAAAAAAABKEFQBAAAAAAAoQVAFAAAAAACgBEEVAAAAAACAEgRVAAAAAAAAShBUAQAAAAAAKEFQBQAAAAAAoARBlWbGx9P/AAAAAADAPm4eQZXxGO7tiJaWliJ1REfvcLZ0TzMe/bXPo6M3hqc8ieHo7ciWt62O1W0z5ddrVt/U/I7e/pmP2Xi23Sw/O6TlzFY+W97f0Wh/6qR60vMtyk85p8O9k/XUp45ZngcAAAAAAOxl5hhUGY/+jrbo2tYdYzt2xI6UxtZF97auaCsdBVgKKs+jL9YVz2Mshrq3RVdbb1SfxXBvVwwuH8ryRmIkKzOW8lfPFkBoVt/0/O5tfVOPWRG46FidbbdY1FDD8tn2suV9y2v2Z/lgg/0fjt62rtjWPVSzfzXntHMgW5aWT01DPRHt3SujtVIKAAAAAAD2anMMqozF9tGInnVrJm+kt3bGmos3RPvg+ujfU5osjG+OjaPtsWFtZ/E8WqNzzbroicHYlOII4/2xfrCSX9W6sjvaRzfG5pmeY9P6puev7G6P2HbTZJCjCFyMjAxl65XQsHxxnlbV7M+qrNTo9ixnBsObsj3tiXVrJss3Paf5MUrrVNYAAAAAAIC93RyDKm2xrD1icFNdd1+ta2Jkx0hM3F8vup7q6OiN3t7K42TXU6nVRqX7q0p3U6lM9ljX0mW4dtkc60trTVm/Xv3+JuM3xbZoj2Vt2fTY9hiN5XFkbX7rkdmS0dg+U1SiWX3T8sdj88bRndjKozPWbmiPwfXVlinZMdo0GO0b1mY5JTV6vpnhC/titGdV+foAAAAAAGAPN8egSqUFQ0/qGiofUyONp9Ifw1NGcq90JbV93UiMjAzEwED2uC6mdK2VjG6LWHVx6kYqK7O2rlXElJYic68vrdU5kE0PlL3ln7rL6ovR9u5YuShRjtnry4M9LakrsJ5Ytzgbm1HrmpEYWr4x2vJgVFtsjKEYma1VSeeqvFXN+v5qsGw8hvvXz9CtWGGGljwAAAAAALC3m/tA9a1rYmBkR+wYG4uhoe5Yvm1jdLW1TQ5YXnQltar2fnvn2tjQXnSFVUitNDqr9/hbV0Z3+2hsLPrWGt+8cTIgMZ/65iS1dKkEOYZGaro1m7fG9eXBnhnGcFlsKXjTlcZwGUnBqLFsqqvBoPKdMTA2FMs3VoNlq2NTdGfPYGaVVirrprbMAQAAAACAvdzcgypVra3R2ZkCLCOxY2xDtI/2xYXDEeM3bcsyB6MrvzlfTW3RN5qGEJn5ln5qAZPGGBnduDnGs/9qu8aaX30ljacuw1IAZEOMjVRauCxI6frqxlxZbMO90TXYE0MDNWOqDAxFT3GOZtTaWQmW5YPQj8TAyuz4Vrsvq6WVCgAAAAAA+6i5BVWGe6M6ZskU+fgb1ck01RND+c35qWnW7qcyrSnIkAaCH06Duk8OgD7f+poa74+Otr7YtnwoxupblLQti/bYFlNiNrVjpMykUX2zHbelIu17S8fUQelnGlcmk7dSWbRu0gAAAAAAYM8xt6BKMfZGV0caR6VYFuMx3JvG3yi66Jo2PkdWYniGm/bTdMaqntHo66obAH3e9TVQBEBGe4ZiZKI1R43WNbEu7UtNs44pXZLVa1Zf8RymtEqZqVuzxTKxvZoD1Gh7Rfdr6fnma4wPR2/XTAPbD8emwYiedYvRTRoAAAAAAOxZ5tj9V2XsjQ3LN8b6tsmuuNZHdwyNVbu7qpTp3r6+GJ+jJdrWb4zlQxc3HYOjc1VlFI+eqQOozKu+fED43pnbhuQBkjQx2FU8h8lUXSXvLmtbyu+IjrTNjctj6OLJYEJt/c3rqzyHZevTwP690dubPW5aVnPMmmv0fKarbC/Wr46OfKD6LK2PKdubWl9rrBkZiw3ZmcyPcVtXbOsZiovrDvB4Gry+fUPo+QsAAAAAgH1Ry47UjxazG0+jvLSmIWRgt7nzzjvzxy3XXBcrTjkhn55NKnPWmacXcwAAAAAALNSll12R35ud/0D1+4pWARUAAAAAAGDO3X8BAAAAAADsmwRVAAAAAAAAShBUAQAAAAAAKEFQBQAAAAAAoARBFQAAAAAAgBIEVQAAAAAAAEoQVAEAAAAAAChBUAUAAAAAAKAEQRUAAAAAAIASBFUAAAAAAABKEFQBAAAAAAAoQVAFAAAAAACgBEEVAAAAAACAEgRVAAAAAAAAShBUAQAAAAAAKEFQBQAAAAAAoARBFQAAAAAAgBIEVQAAAAAAAEoQVAEAAAAAAChBUAUAAAAAAKAEQRUAAAAAAIASBFUAAAAAAABKEFQBAAAAAAAoQVAFAAAAAACgBEEVAAAAAACAEgRVAAAAAAAAShBUAQAAAAAAKEFQBQAAAAAAoARBFQAAAAAAgBIEVQAAAAAAAEoQVAEAAAAAAChBUAUAAAAAAKCEeQVVxod7o6OjJVpaKqmjtz/Gi7w9ynh/dLR0RP8eufMLlJ3D6vmbljr20PMJAAAAAAA70ZyDKuP9HdHWtS26143Fjh07sjQW62JjtLX0xnBRZukaj/6OluioRlFa18TIjpFY01qZ3ad0DhTnb2oa6olo714Z++IhAQAAAACARuYYVBmOC/tGo2doJNZ0Vm+7t0bnwLroicHYNCWqMh7jw8MxPJw9Fkv2DHvqfi+C8f5YP9gT6/bJKBMAAAAAADQ2t6DK8KYYjJ5Y1VnMT+iMgR07YqC6PHUP1tIWq9dvik2bVkdbS0f0TvSxNRy9LS3ZfPY40YVYbRdczfIz48PR39ERHR290dtbeRyuy59cd7J7suHetugbjRjta4uW3uE8iDCl+68F7XdaPVuW6p1RsX5tdt4F12QLn/H+tP3Juie3nWn4nIsWONnzrOxbUeeU45DVl61fu716wxf2xWjPquxsAgAAAAAA9eYUVBm/aVtE+7JoK+ZnlAIVXYOxfGhHjIwMxMDASOwYWh6DfaunBCAGN26KVRdXupwa2xDRt3rqOB6z5w9Hb1tXbF83MlH/yLqIrrZqsKCSv617KMbyLq3Gojv6oq13ODoHxmJDe/YUNozFjokIUGER9rtzIFteX29Zw73R1hfRPVape8dQd2yb2Haz51wxmp2eyr4NROfEcah203ZxrFo+WpScQd5KpT02rBVSAQAAAACAmcxroPqGxrbHaH1rls61saF9NDZunoxO9KwbiGoPYq1HLo8Y3R5jldncrPkztZbJ6y+6Hyvy163pLMYFaY01ZYIdi7TfCzOYbWs4hsez7XXWjPfS7DkX0lgoE72yTRyH6oLW6FzVU0xPV2mlsm7fHF8GAAAAAABKmFNQpUwQoVRrlgXI64/B6JroJiulSrde224an/f2d/Z+N9U5EGNDG2L5xvXR1daWP6+O3uG8FUyz5zyTOT0frVQAAAAAAKCpubVU6VwV0wekT4YnxgtZ/NYbU+X1Z3sxlHdpNTWNrGmd9/Z39n6X0dq5JgZGRirPZ2xDLB/s+v/bu/8wv6r6TuCfSQJoQPkdgvwKZCZinsAK/mQmBGmkZhJwI6XTllbTqmSidUmwWqwPq7U7VapuTWirSdBdY/fRmiKmlWSyS7EVkoCKUJuY1swgBBSChpABGggkmb3nfu93MjPJzNyZ/JqQ1+t5Tu6955x77v1+J3993885J2YtaB/wM+/NYD5PPkulvilmmKUCAAAAAAB9GuTyX43x0fn1sXh6Qyzo2iW9PVqbW3YvT1U3MbIePYOX1s/FvDX10bQ/frUvgp2WBZVZHEl7a7cN5/dob48F/W4gXzjQ7x11MbE+Yl31AWkT+ZbFlfNM+4KGqOm14X6anzJpQvbsgT7z3nTdU3To9bzdWmNZVj37prnFcmkAAAAAAMDeDHpPldq5q6NtxaRY2lJZoiotQ9USTbGiLW2OnneI1Stmx7rpNdHQ0BzNzQ1RM31dzJ6/ZD/t19EYi9pWRNP6lqgrlsKqa1kak1ZUx6+0T1o6vWivi6UxP9ryPVVqY0ZTfayZl717Q8+N8ffHe7f2G97Uxtwl82PSuumV723WspjZtHuPk9q5S2LFpHUxva7ymWrqss80vy0qW8EM9Jn3Jt2TlhMr/k7Z8yZ2e15V+4KWWFw/P6z8BQAAAAAA/avpTGtIHRDt0d7aFm1RF3WNtYfRLIjD9b0HlmbD1M2bFCs6iwCMw0ZHR0d+vPOue+KKqZfm531Jfa65+sriCgAAAACAfXXb7Xfkv80OeqZKebVR29gYjYddMHG4vncv7ZXlwZqr64m1t8bypWsiZs8UqAAAAAAAwBAcwFCFQ6p2bixZMSnWTS+W/6qbHksnrSiWQQMAAAAAAAZLqPIyVtu4KFZ3dkZa4S2V1YsaX1bLmQEAAAAAwMEkVAEAAAAAAChBqAIAAAAAAFCCUAUAAAAAAKAEoQoAAAAAAEAJQhUAAAAAAIAShCoAAAAAAAAlCFUAAAAAAABKEKoAAAAAAACUIFQBAAAAAAAoQagCAAAAAABQglAFAAAAAACgBKEKAAAAAABACUIVAAAAAACAEoQqAAAAAAAAJQhVAAAAAAAAShCqAAAAAAAAlCBUAQAAAAAAKEGoAgAAAAAAUIJQBQAAAAAAoAShCgAAAAAAQAlCFQAAAAAAgBKEKgAAAAAAACUIVQAAAAAAAEoQqgAAAAAAAJQgVAEAAAAAAChBqAIAAAAAAFDCfglVXnrppdi+fXu88MIL+TFdd69LJV3v3LmzuAMAAAAAAODwss+hSmdnZ+zatStWrFgRn/3sZ2Px4sXxzDPP5AHK/fffn9el0tbWlvcFAAAAAAA4HO2XmSopLNm4cWM88MAD8ZOf/CRefPHFvO5Xv/pVXpdKR0dH0RsAAAAAAODws19mqiRpia9nn302nnvuuXzmSpLClVSXyo4dO/I6s1UAAAAAAIDDUalQJQUhqaSwpHpeva7WjRkzJmpra+Occ86JUaNG5fcdf/zxeV0qo0ePzpcEqwYu/VnQENGwoLjopT2rr8na29uzPjVZ3+xIP3xPe/KdAAAAAAAwBDWdKREZQApCUiBS3Wi+pqYmP1bDlcEYMWJEHHPMMcXV3qXgpG5exIps6MairioFLkubIlbPLSrYg+9oT4f7d1JdPu/Ou+6JK6Zemp/3JfW55uoriysAAAAAAPbVbbffkf82O2CokoKUTZs2xapVq/Klva699tq8/rvf/W7+Q29DQ0O+Of1TTz2V1/dn6tSp8c53vnPAUCVpTrnNiohF3VOV1oia6XsPWw6V9uyd2rJjXfZCtZWqQ65MgDAc3vtgvoNQBQAAAACAoaqGKgMu/5VClR/84Adx7733xsMPP1zURjz22GOxevXquPvuu+Oiiy7Kl/xqa2vrs5x//vkxYcKE4u6BzZwdsXhZcVFoTddZfR6o9F7CKTumH84bstLcXDm2prYUxGT9skNFcV9zV0UlwOl+3SXr25yNk+5PpSEbt/q4NGAaZ1ZLxLLsverSGN2WLMvHzK673999uamB2vv8PFXZ+d7erTU7zlsTsWZeVp+dp8oe39M+vndve/TPjt37558he49qe/41D/Ydeo050HfT+5mpT7/fyQDjpZlTqX/+Lmm8bu8KAAAAAMCRY8BQJS39tXbt2njkkUfyjeer0sb0GzdujPvuuy8uuOCCGDt2bNGyd294wxvyYGXkyJFFTf8aZ2b/LC5+hC8sy65np/q9aK6LWH9TxOrVEYsWZcfsfHpW19qY5zCxrBiofXnEmuy4bkPlOj0gGzZm5klNT2nMdU0RbZ1pqbOI7DTqqj/KT4+YtGL38zqz88Xzev74v3hpNu6Syr1t8yPmzcpv7dJfe5+fp1v73t6tMes7vz6iPhuvMzvvYT+9d289+mcvMi97t+7jrVm3u71xKO/Qa8yBvpuk+zNTnz6/k0y/42X/pKXomtoqY6V3XdfrXQEAAAAAODIMGKqk1cE2b94czz77bGzbti3a29vzkpYjev755+OJJ56IrVu3xksvvVTc0bcUqFQ3sR9QY+WH8GoY0l/4sde2bvenWS/VEGX50ojZ2fWa7Jh+F29P9dXZL90VY940d/fSVHNTAJB+lG+rBDN7e97S5cV1ZvZNWXVxc22apJPdlJa7quqzfYDP0++79Wc/vXdvPfpn79R7vPqm3e1DeofuYw703RR6PLM/JcdLz85nr2Rtqzuz77vM2AAAAAAAvKwMGKp09+///u8xb968vKRlvw60GU0Ri1sq4Uda+ivNNOj+23dVHoxkpndboimVtORTClPSrJc8RMkGWprVzVwUMTs7Ls+uU8hSP7Fyf3f5mPURdZXLHvpr2x8G+jxDff6Bfu8y9vUdBvpuBmvA8bL/cG0rIiZl/0/S7JXU1mMZOAAAAAAAjhgDhio1NTUxfvz4GDNmTFGz23HHHRfnnntunHrqqaU2nx+s2hkR9UX40bI4oim73pt8NkUmbWCfL9HUreQbkzcWIcryiDXFrJQ0eyXNPlif1e9t3P5maJSZvbEvBvo8Q33+gX7v7iYVn6G3fXmHNOZA381glRmvNvsPs2h1UZ+9+KTs/+KsBZU2AAAAAACOHAOGKmm5rsmTJ0d9fX2cddZZRW3EySefHBdffHFcddVVccIJJ8Tb3/72+NCHPhTvfve749hjj837XHjhhXldKuecc05eNyi1ETel8GNWxJr6iBl9LbmUQpPs0LJg9wyC9tbK5uLVvS8mZvfPm5f1K/ZkyWevZNeL+xp3L2MuaI7KRud1+WSLHstDpWWk0uyGvoKfQRno8/T3bv05QO+9eFm398zeKY3XYzmt7kq+Q59jDvTdDNYA46Vn1/TauH5dVvoKjQAAAAAAePkaMFRJ+6C87nWvi8suuyzfbL4q1U2dOjXe+MY35jNWLrroopg+fXpMmTKla9ZKClIaGxtjxowZcfrpp+ezXgYrDz/WRL7HRn/bWCxqi2haH1GXPSI9pq4l8s3Qq3tfpKXEkonVdaeKH9PT3ht9jZvGTMs+VcfMTqMt7VuS3bA6bVg+PaKhIaI5BRrZ+ez5+2+vjYE+T5/vlkmfNQVGKQzokTMcoPdOIcms6ntmLzI/e7e+MpWy79DfmAN9N3vT53eS6W+8tJ/Likm7l/6qyY6Tsndd1OcHBAAAAADg5aqmM+1EP4Bdu3bl5b777otPfvKTeV1zc3PMnDkzjjrqqKiGJTt27IhHH300brzxxtiyZUs+i+UDH/hAHH300V19Xm7SrIa27FjX2Hc4Mxztr/duTn/WFUMLGfp6h30Z8+Wqo6MjP9551z1xxdRL8/O+pD7XXH1lcQUAAAAAwL667fY78t9mS21UP2JE391ermFJWWm/jcZ9DCYOheHw3ofrdwcAAAAAwJGpVKhysOXLLCmHRVmc/b0WT99721DLgRjzQBQAAAAAAI4sgwpV0gb0559/fl5OPPHEonb/SwuSKcpwLwAAAAAAHFlKhyppma8xY8bEtGnT8jJu3Li8rrfRo0fH5ZdfnvdJm9kDAAAAAAC8HJTaqD5J3dJm9Wkz+mTkyJF56R6spLadO3cWVxWpPW1UDwydjeoBAAAAAA6dQW1Un6RwJIUoxxxzTF5GjRq1x0yVVFdtrxaBCgAAAAAA8HIwLDeqBwAAAAAAGG6EKgAAAAAAACUIVQAAAAAAAEoQqgAAAAAAAJQgVAEAAAAAAChBqAIAAAAAAFCCUAUAAAAAAKAEoQoAAAAAAEAJQhUAAAAAAIAShCoAAAAAAAAlCFUAAAAAAABKEKoAAAAAAACUIFQBAAAAAAAoQagCAAAAAABQglAFAAAAAACgBKEKAAAAAABACUIVAAAAAACAEoQqAAAAAAAAJQhVAAAAAAAAShCqAAAAAAAAlCBUAQAAAAAAKEGoAgAAAAAAUIJQBQAAAAAAoAShCgAAAAAAQAlCFQAAAAAAgBKEKgAAAAAAACXUbN26tbM4B4a5O++6J66YemlxtXepzzVXX1lcAQAAAACwr267/Y78t9maf/5RW2dNUdmlpmfNHu3d9de3V1tve7R269//nZn++vbz3IH69n1nZqC+Q3xu33cV+ntuP89M+uvb/5091QzwnO4G6rs/x+quv74H6pnJwXju6cftyo9CFQAAAACAg68aqlj+CwAAAAAAoAShCgAAAAAAQAlCFQAAAAAAgBKEKgAAAAAAACUIVQAAAAAAAEoYsfANdfG23uXi2qzcHA8WnQAAAAAAAI50xUyVyfHRO9riX35UKd/8xJSs7stxw4eWxpOVDgAAAAAAAEe0vS7/ddpbpsWb08malXH/E3kVAAAAAADAEW2APVUmxGtOT8f7YuHFtXFZt7Lw/ognl703LrtofI8y5Q+Xxqb83sz9n4kprz9vj/Kl7N405hez80u7lS+m+ie+GX/0X86Nyd1KXl944C+L+gvHFWVWfOfxojHz4F+Oi4YLzulW3tOjHQAAAAAAYCj2Gqo8+M2Pxw/SSf158Zq8Zrc3f+J78b0H2mPOGUvj8392d1ZzXcx/8KH43oN3xx/XZ5dr/iQ+/+1fRDy+ND7y/luziinxx60/i7u/fF26fa/e/Ml74p5//Vl88Ixvxh9N+1j27Clx48qHY9WPV8WN2Zhff18lWNn07Vlx/ZLshvqb47Z/eyRu+9PLsovvxc1/9s08yNl0+6z40Fezk4a/iG+t3Rjf+lS1/e92Bz0AAAAAAABDUIQqq+JzV+7eqP6Gr2VV9Z+Ob/51U5xW6VCYEm97yxn52ZPfX1kJXt7ztrgorzkj3vj2tBdLxA8eeSw2fb+10j5rTlyZZru88fL4nXS9hylx+VsrY266b0UR5kyPN+UzZM6IN/16Zcyv331fjD3rtfl5rPlY3P7DiLFXL4lV//ZIrF74WzE2q+5qX31jfCtv/1qsXrsxa//tvB0AAAAAAGCo9rpR/b880B7/skegMrDTqqFG+6OxT1uxrPlYXFMs/XXNn6bZMJm2jbHpjR+PVV+pzHj5+vuqy3+Ni7/5YV4V8aaPx+qvzM5Pv/7e3UuAdbUDAAAAAAAM0QB7qgzOk4/9tHJSe3bkE02GatY3YtWP0/Jf3cqXKrNRIgUr6frfHolV1QDlfZ+OB/OzTApW0uyUVP5XNWD5893tAAAAAAAAQzDkUOW0t0yLN6eTry2K5flG8L+I+/+pMqvkzePOirFvaay0L1kYdzyR9kNZGN/IW/s29l0fqCwRtuR3ujan79qY/i/v63HeQ/34PMTJN6m/MCv/s1d7Q6UdAAAAAABgqIY+U+X0pvjIJ9J+J3fHZ2eMj8sumhKfXZNd1n8mPvKuMyJe0xSfzzenz9obz4umTxXLePXrrfHBlTfnYUzanD4FKPnG9GnmyoffGhd/uLJxfQpd8qW/3rc4u7gsPvaJyiyWiz68Oj6W2r/6W5Wlv95bbbenCgAAAAAAsG9q/vlHbZ01xUWXmp41e7R311/fHm33xZdef218I6bEH7d+Nd+8fo9xu/Xfo623/vr2eqfuBurb952ZgfoO8bl931Xo77n9PDPpr2//d/ZUM8Bzuhuo7/4cq7v++h6oZyYH47mnH7crP9551z1xxdRL8/O+pD7XXH1lcQUAAAAAwL667fY78t9m9+ueKv3ZvfzXa+MMa3EBAAAAAACHmQMXqtx/c0x5/XldpbL8V5ql8idxUaUHAAAAAADAYePAhSpv/Fjc/a8/61Uqy34BAAAAAAAcbg7a8l8AAAAAAACHM6EKAAAAAABACTWdmeIcGKY6Ojry45133RNXTL00P+9L6nPN1VcWVwAAAAAA7Kvbbr8j/23WTBUAAAAAAIAShCoAAAAAAAAlCFUAAAAAAABKEKoAAAAAAACUIFQBAAAAAAAoQagCAAAAAABQglAFAAAAAACgBKEKAAAAAABACUIVAAAAAACAEoQqAAAAAAAAJQhVAAAAAAAAShCqAAAAAAAAlFDTmSnO99mC7zweO3eNjBdfqonns/LC9h2xbdu22PFCR7xixLY4YXTEJ2dPLnoDZXV0dOTHO++6J66Yeml+3pfU55qrryyuAAAAAADYV7fdfkf+2+x+makyf/njsfCuLXH2WSfG9CknRvO0k+Kj7zopPvOesfFXHxwfX/rwxTHnmouj9uyT4w8/vTze+9+/Vdx5sLVGc01N1PQoDdHQvCBa24suAAAAAAAAe7FPocpf3P5o/NX/ezJ+7dJTY87Uk+Jdr39lnH/i0XHicaPiuFeMjBEjaoqeEa89c3T87rTXxd98fEa8+50Xx9yb/zGa//S2ovXgmr2iM9IEnUpZEksmro+WuoZobi06AAAAAAAA9DLkUOVTf/dInH7mq+K6t50aF776qKK2nMvfdG7cPG9avGHia6Lphq8WtYdKbdTOXRRL5kcsblkQPSestEd7a2u0tmbHogYAAAAAADgyDSlU+eTXH46xpx8bv33xCfGKo4eWy4zMbrt2+oXR9I5J8RvXf6WoPXRqZzRF/ZqlsbyanrQ2R0NNXcxqWRbLls2KupqGaF7Q1ZgvI9a8IDs27F5GrKs5aW+NBQ0N0dDQHM3NlaMlxgAAAAAA4PA1pETkqJE7Ynr9yXH0qN3Lew3Frl278lkrU95wTrznxq8VtYdI7YSYFGtifVt23r4gGqYvjkkrOmP16kWxaNHq6FwxKRbPm9UjOFm8dFnMXFJZRqxtfsS8WdWZLq3RXDc91t+0uuv+1TdFTK9rzloAAAAAAIDD0aBDlY8t/mFMHH9cnHXU0Gao/PyXL8Rff6cjnn5uV36dAomrp06METWd+fWw0LY+1sTsmNlYXCeNH4359WtiaddUlojZNy2KxtrKee2ESRFr1kfKZKJ1WSze6/2LY5lUBQAAAAAADkuDTkaOPbozLp90SnE1OClQaZzzjfjW934Zv92yIf5ze2WWx6iRNfH2t5wXV835UtHzEGjfEOuiPibWpdN1EfUTIzsdkvz+WBzT82XBqqUu5q2JWLfBGmAAAAAAAHA4GlSo8on/vTbOPu34OPEVg9uYPqkGKqeMvzTOPmdcHPeqk+K/zd+QBw5pGbC0BFjaZ+VQaV++NNbUN8WM2l6zToYgvz9mx4rOSmjUvayeW0xtAQAAAAAADiuDijGe3bo1zj3j+OKqvGqgcvK59XHmmefEc889G5s2ro3GN5+QhypJChwuqBsTv3/jkvz64GmP1gUNUTcvLec1N/LIo25i1EevpbpaPxfz1tRHU0pdBtI4M2Zn97csaC32WMme0rogGnpvZg8AAAAAABw2BhWqHDVqVLx23PHROYjtT7pmqJxbH2edfV7853Nb4xdt348576qNa3/9zK5QJc1WmXD2SbHpqY78+kBaPL37slyzomV9U6xoWx2Lqnug1M6N1Stmx7qsX0NDczQ3N0TN9HUxe/6SKDfRpDEWta2IpvUtUVc8p65laUxaUfZ+AAAAAABguKnpTFNESrph/pr49Jw3xSuOOSqKLCS+/9OX4uijauKi80ZVKrrZHahcEmedUxvPPvNUPPnwj+J976yL35t2duzcuTO2b98e27Zty4+PPvF0fPjz/zce+PbHixEOtfZob22LtqiLusbayiwWOAQ6Oiph45133RNXTL00P+9L6nPN1VcWVwAAAAAA7Kvbbr8j/212UDNVXnhxZ4wcOaIrUHl8y674q394Mt7zkb+NtRt3VCoLuwOVt8aZ59RGx9O/il8+/MM8UJk149y8T8pz0gyVdEzl5ONfGVs6tuVtw0Nt1DY2RqNABQAAAAAAjniDClV2dI4sziqhyR99eUuMGn1qXPKO34trb/jb2PDY811tlUDlzXHmOROiY8umePqx++O973xt/MFV4/M+KURJM1VSqJKkYx6w5FcAAAAAAADDy6BClVEjOuMXz1TOzxzzirj+ncfHY48/HTt3jYiJ9dfEb8z9u65AZcz4NEPl/Njyy0ej4xcPxKyrzo/3/de6/N7eM1Sq4crmp7fFya9+Zd4HAAAAAABgOBlcqNL5Qmx5qkhVMpecf1T8RsOx8bONv4hXvvLYGH/xVZVA5by3xOln1sVTmx6O7ZvXxXuufF0eqFRDlGqpzk6phiqPPLE1Tjnx2GJ0AAAAAACA4WNQocoJrxoVa3/68+Kq4oMzXhW1p3XG4z9/NF71qhNi3IXviLFn1sZTm34WO7auj99p7DlDJZVqiJLKjh078pLq2zZujtNOPi7vCwAAAAAAMJwMKlT5Hx+4LL7/44eLq93++kNnxzO/ejie7dgcrzr+5Hj6lxvjhc1r47feUZmhUtV7dkoKU1566aX8mOrWtv8q/vbz7y96AwAAAAAADB+DClWS55/fHnd9/6HiquKYo2rits9cEj99YGVsf/65+PlPV8XvzpiUb0qfwpLqDJVqmFI9vvjii3lJ16sefDQ72qYeAAAAAAAYngYdqnz1z38z/uG7a2Pb89tj+/bdZczxI2LhJ6bF+tVfj8/M+7X4/SsrgUp1Rkr3WSnV8xSopOP2F3fEP9+/MVq/Mq94CgAAAAAAwPAy6FAleeGFl+Jr//jDPBR54YUXusrFdcfG/UvfG5e/4dSuWSjdSzVU6R7GpODljns2RGdnTTE6AAAAAADA8DOkUGXxp34z7rq3LVau+o88JEmBSQpIUrDy/PPP71Gee+65eOaZZ/JjKtu2bctLunfVvz4W9619IpbeMqcYHQAAAAAAYPgZUqiS/P38P4hvtP44vvaPP8qXAqvORqmGK6mk4KR3wFINVNI93/7uf8R37m6P1i/PLUYFAAAAAAAYnoYcqiS33/L+eOA/nohPfPGf4rs/eKhr1koqKVTpHrBUr9MSYGlT+s8uWRM/+dkWgQoAAAAAAHBYqOnMFOf75Ko5X4wRI2rigtoxMeGck+Kssa+OU45/Zb5nyq+2PBcbN3XEho1Pxbr2X8bOXRErbUoPpXV0dOTHO++6J66Yeml+3pfU55qrryyuAAAAAADYV7fdfkf+2+x+C1WqZt341Xhy8zPxyy3PxZaObZEGP/nVr4xTTjw2xpx8XPyfz7+/0hEoTagCAAAAAHDoHLBQBdj/hCoAAAAAAIdONVTZpz1VAAAAAAAAjhRCFQAAAAAAgBKEKgAAAAAAACUIVQAAAAAAAEoQqgAAAAAAAJQgVAEAAAAAAChBqAIAAAAAAFCCUAUAAAAAAKAEoQoAAAAAAEAJQhUAAAAAAIAShCoAAAAAAAAlCFUAAAAAAABKEKoAAAAAAACUIFQBAAAAAAAoQagCAAAAAABQglAFAAAAAACgBKEKAAAAAABACUIVAAAAAACAEoQqAAAAAAAAJQhVAAAAAAAAShCqAAAAAAAAlCBUAQAAAAAAKEGoAgAAAAAAUIJQBQAAAAAAoAShCgAAAAAAQAlCFQAAAAAAgBJqOjPFOTBMdXR05Mc777onrph6aX7el9QHAAAAAID9K/02K1SBw8BgQhUAAAAAAA4My38BAAAAAACUIFQBAAAAAAAoQagCAAAAAABQglAFAAAAAACgBKEKAAAAAABACUIVAAAAAACAEmr+/lvf6SzOgWHsiqmXxp133VNcAQAAAABwsNVs3bpVqAIAAAAAADAAy38BAAAAAACUIFQBAAAAAAAoQagCAAAAAABQglAFAAAAAACgBKEKAAAAAABACUIVAAAAAACAEoQqAAAAAAAAJQhVAAAAAAAAShCqAAAAAAAAlCBUAQAAAAAAKEGoAgAAAAAAUIJQBQAAAAAAoAShCgAAAAAAQAk1W7du7SzOAQAAAACAQ2jHjh2xefPmePHFF2PXrl1FLQfa6NGj46STTopRo0YVNXsnVAEAAAAAgGEgBSqPP/54nHrqqXHKKafEiBEWmzoYUni1ZcuWePLJJ+M1r3lNv8GKvwgAAAAAAAwD6Yf9sWPHxpgxYwQqB1H6rlOIlUqaJdQffxUAAAAAABgGtm3bFieccEJxxcGWQpW07Fp/hCoAAAAAADBMjBw5sjjjYEvf/UD72AhVAAAAAAAAShCqAAAAAAAAlCBUAQAAAAAAKEGoAgAAAAAA5B5aeUvMmTwy319k5MjJMXnOynioaItYGXOyult2VxxxhCoAAAAAAEDEyjkxYcbSmHjThti5c2dWlsRNMSMmzFlZdECoAgAAAAAAR7yH4paWW+O65avi+mnji7rxMe2jX4hLbm05omendCdUAQAAAACAI91Dy2PpvdfFzGnFddX462PVzlVxfTVn6eGhuGXO5GKpsJExec4t3ZYKS0uJzYnJRVtaSqznhJfKvZMnz4k5k3svMzZ8CVUAAAAAAOBI17Y+7i1Oy1o5Z0LcEDfFhnypsA3Z2Q3dlgpbGZ+bEXHThtS2MzZ8YVLc2rI7dEn3Lp24JFatWhgLV62KJRNbDotlxoQqAAAAAADAIK2MZbdeEl/46LSoTGKpLhW2LGupujValq+Mhx5KE14Wxs5V1xd9K/c2zdg9/WX8jKZe9w5PQhUAAAAAADjS1U2MS4rTUh7aEOtiUkzovizY+AlZzbrYkE9HmRYLNyyPSUtbYsKEYvmv6sYs+b33xg15fVEm3JDVVO8dvoQqAAAAAABwpBs/I5ouuTWW9Z4q8tAtMXnk5D03qu8RoBR6By3jp+VLe+XLfy3Pet8wqzJOfu8l8YViabDdpa+9W4YPoQoAAAAAABzxxsf1N10Xt86YHLesrCYlD8XKz90Q9153017Cjmkx87p744bPVTeYr/admbWky1ti8uSeG9dHV+DS+97UfXKM3KP/8CNUAQAAAAAAIqYtjA3Lm2J9y4RiWa4J0RLLY8PCPCbZw7SFG+ILWY8JXX2/sLvv+OtjSdP6mFUs7zVhxrqYtHxhJXDJpHuXd92btS+dFMuXVPdcGb5qtm7d2lmcAwAAAAAAh8gjjzwSF1xwQXHFobB27doYN25ccbUnM1UAAAAAAABKEKoAAAAAAACUIFQBAAAAAAAoQagCAAAAAADDwIgRI2Lnzp3FFQdbme9eqAIAAAAAAMPA0UcfHZs3by6uONiefvrpGD16dHG1d0IVAAAAAAAYBk455ZQ8VEnFjJWDJ33XTz75ZF5OOumkonbvarZu3dpZnAMAAAAAAIfQjh07YuPGjbFly5bo7PTz/cEwcuTIOP7442PcuHExatSoonbvhCoAAAAAAAAlWP4LAAAAAACgBKEKAAAAAABACZb/AgAAAAAA6MeDDz6Y/Rvx/wEFN79zTY30bgAAAABJRU5ErkJggg==)"
            ],
            "metadata": {
                "azdata_cell_guid": "44277604-c209-422e-b909-d2f4f0a36e65"
            },
            "attachments": {}
        },
        {
            "cell_type": "markdown",
            "source": [
                "Se crea el JOB con el fin de ejecutar el almacenamiento programado creado anteriomente\n",
                "\n",
                "![](data:image/png;base64,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)"
            ],
            "metadata": {
                "azdata_cell_guid": "41d6311a-59a5-4452-9d68-e96fdbcdd5fe"
            },
            "attachments": {}
        }
    ]
}